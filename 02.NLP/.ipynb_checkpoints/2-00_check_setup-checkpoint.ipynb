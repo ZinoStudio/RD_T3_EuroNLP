{
 "cells": [
  {
   "cell_type": "markdown",
   "metadata": {},
   "source": [
    "# Natural Language Model for Corporate Bankruptcy Prediction \n",
    "--------------------"
   ]
  },
  {
   "cell_type": "markdown",
   "metadata": {},
   "source": [
    "### _01. Set-ups_"
   ]
  },
  {
   "cell_type": "code",
   "execution_count": 1,
   "metadata": {},
   "outputs": [
    {
     "name": "stdout",
     "output_type": "stream",
     "text": [
      "D:\\02.users\\seo_kim931\\voucher2020\\euroNLP\\local_repo\\02.NLP\n"
     ]
    }
   ],
   "source": [
    "# Check cwd(Current Working Directory) ============================== \n",
    "import os\n",
    "print(os.getcwd())"
   ]
  },
  {
   "cell_type": "code",
   "execution_count": 2,
   "metadata": {},
   "outputs": [],
   "source": [
    "# import packages =================================================== \n",
    "import glob\n",
    "import warnings\n",
    "warnings.filterwarnings(action='ignore')\n",
    "\n",
    "import datetime\n",
    "from datetime import date\n",
    "\n",
    "import pandas as pd\n",
    "import numpy as np\n",
    "\n",
    "import matplotlib as mpl\n",
    "import matplotlib.pyplot as plt\n",
    "import matplotlib.font_manager as fm\n",
    "import seaborn as sns\n",
    "%matplotlib inline\n"
   ]
  },
  {
   "cell_type": "code",
   "execution_count": 3,
   "metadata": {},
   "outputs": [
    {
     "name": "stdout",
     "output_type": "stream",
     "text": [
      "===========================================\n",
      "   matplotlib ver.                          \n",
      "===========================================\n",
      " 버전:  3.3.2\n",
      " 설치 위치:  D:\\00.dev\\Anaconda\\envs\\team3-py38\\lib\\site-packages\\matplotlib\\__init__.py\n",
      "===========================================\n",
      " 설정 파일 위치:  D:\\00.dev\\Anaconda\\envs\\team3-py38\\lib\\site-packages\\matplotlib\\mpl-data\\matplotlibrc\n",
      "===========================================\n",
      " 전체 폰트 수: 375\n",
      "['C:\\\\Windows\\\\Fonts\\\\FRADM.TTF', 'C:\\\\Windows\\\\Fonts\\\\MAGNETOB.TTF', 'C:\\\\Windows\\\\Fonts\\\\javatext.ttf']  ... \n",
      "===========================================\n",
      " [맑은-](한글) 폰트 수: 3\n",
      "[('Malgun Gothic', 'C:\\\\Windows\\\\Fonts\\\\malgun.ttf'), ('Malgun Gothic', 'C:\\\\Windows\\\\Fonts\\\\malgunsl.ttf'), ('Malgun Gothic', 'C:\\\\Windows\\\\Fonts\\\\malgunbd.ttf')]\n"
     ]
    }
   ],
   "source": [
    "# matplotlib 한글 폰트 설정\n",
    "\n",
    "# 버전 체크 \n",
    "print(\"===========================================\")\n",
    "print(\"   matplotlib ver.                          \")\n",
    "print(\"===========================================\")\n",
    "print (' 버전: ', mpl.__version__)\n",
    "print (' 설치 위치: ', mpl.__file__)\n",
    "# print ('설정 위치: ', mpl.get_configdir())\n",
    "# print ('캐시 위치: ', mpl.get_cachedir())\n",
    "\n",
    "print(\"===========================================\")\n",
    "print (' 설정 파일 위치: ', mpl.matplotlib_fname())\n",
    "\n",
    "print(\"===========================================\")\n",
    "font_list = fm.findSystemFonts(fontpaths=None, fontext='ttf')\n",
    "print(\" 전체 폰트 수:\", len(font_list))\n",
    "print(font_list[:3],' ... ')\n",
    "\n",
    "print(\"===========================================\")\n",
    "MalgunFontFamily = [(f.name, f.fname) for f in fm.fontManager.ttflist if 'Malgun' in f.name]\n",
    "print(\" [맑은-](한글) 폰트 수:\", len(MalgunFontFamily))\n",
    "print(MalgunFontFamily)\n"
   ]
  },
  {
   "cell_type": "code",
   "execution_count": 4,
   "metadata": {},
   "outputs": [
    {
     "name": "stdout",
     "output_type": "stream",
     "text": [
      "===========================================\n",
      "  Matplotlib 적용 폰트: Malgun Gothic\n"
     ]
    }
   ],
   "source": [
    "print(\"===========================================\")\n",
    "print(\"  Matplotlib 적용 폰트:\", MalgunFontFamily[0][0])\n",
    "plt.rcParams[\"font.family\"] = MalgunFontFamily[0][0]"
   ]
  },
  {
   "cell_type": "code",
   "execution_count": 5,
   "metadata": {},
   "outputs": [],
   "source": [
    "# Set directories =================================================== \n",
    "\n",
    "# News Crawling original \n",
    "data_dir = 'D:/02.users/yjin123/team3/euro/euro_data/news_data/'\n",
    "# Directory for file saving (= Database)\n",
    "db_dir = 'D:/02.users/yjin123/team3/euro/euro_data/DB/'\n",
    "\n",
    "# User's cwd(current working directory) for working .py script \n",
    "code_dir = os.getcwd() + '/'\n"
   ]
  },
  {
   "cell_type": "markdown",
   "metadata": {},
   "source": [
    "### _02. Library check-ups_"
   ]
  },
  {
   "cell_type": "code",
   "execution_count": 14,
   "metadata": {},
   "outputs": [
    {
     "data": {
      "text/plain": [
       "'3.5'"
      ]
     },
     "execution_count": 14,
     "metadata": {},
     "output_type": "execute_result"
    }
   ],
   "source": [
    "# import nltk \n",
    "import nltk\n",
    "nltk.__version__"
   ]
  },
  {
   "cell_type": "code",
   "execution_count": 15,
   "metadata": {},
   "outputs": [
    {
     "data": {
      "text/plain": [
       "'0.5.2'"
      ]
     },
     "execution_count": 15,
     "metadata": {},
     "output_type": "execute_result"
    }
   ],
   "source": [
    "# import konlpy \n",
    "import konlpy\n",
    "konlpy.__version__"
   ]
  },
  {
   "cell_type": "code",
   "execution_count": 16,
   "metadata": {},
   "outputs": [],
   "source": [
    "from konlpy.tag import Okt \n",
    "okt = Okt()"
   ]
  },
  {
   "cell_type": "markdown",
   "metadata": {},
   "source": [
    " "
   ]
  },
  {
   "cell_type": "markdown",
   "metadata": {},
   "source": []
  }
 ],
 "metadata": {
  "kernelspec": {
   "display_name": "Python 3",
   "language": "python",
   "name": "python3"
  },
  "language_info": {
   "codemirror_mode": {
    "name": "ipython",
    "version": 3
   },
   "file_extension": ".py",
   "mimetype": "text/x-python",
   "name": "python",
   "nbconvert_exporter": "python",
   "pygments_lexer": "ipython3",
   "version": "3.8.5"
  }
 },
 "nbformat": 4,
 "nbformat_minor": 4
}
