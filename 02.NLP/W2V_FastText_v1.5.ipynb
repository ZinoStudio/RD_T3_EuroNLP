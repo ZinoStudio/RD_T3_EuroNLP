{
 "cells": [
  {
   "cell_type": "markdown",
   "metadata": {},
   "source": [
    "### 라이브러리 호출"
   ]
  },
  {
   "cell_type": "code",
   "execution_count": 26,
   "metadata": {},
   "outputs": [],
   "source": [
    "from ckonlpy.tag import Twitter\n",
    "from gensim.models.word2vec import Word2Vec\n",
    "import pandas as pd\n",
    "import matplotlib.pyplot as plt"
   ]
  },
  {
   "cell_type": "markdown",
   "metadata": {},
   "source": [
    "### Train data 호출"
   ]
  },
  {
   "cell_type": "markdown",
   "metadata": {},
   "source": [
    "#### 2015년 전체 data"
   ]
  },
  {
   "cell_type": "code",
   "execution_count": 42,
   "metadata": {},
   "outputs": [
    {
     "data": {
      "text/html": [
       "<div>\n",
       "<style scoped>\n",
       "    .dataframe tbody tr th:only-of-type {\n",
       "        vertical-align: middle;\n",
       "    }\n",
       "\n",
       "    .dataframe tbody tr th {\n",
       "        vertical-align: top;\n",
       "    }\n",
       "\n",
       "    .dataframe thead th {\n",
       "        text-align: right;\n",
       "    }\n",
       "</style>\n",
       "<table border=\"1\" class=\"dataframe\">\n",
       "  <thead>\n",
       "    <tr style=\"text-align: right;\">\n",
       "      <th></th>\n",
       "      <th>title</th>\n",
       "      <th>date</th>\n",
       "      <th>content</th>\n",
       "      <th>url</th>\n",
       "    </tr>\n",
       "  </thead>\n",
       "  <tbody>\n",
       "    <tr>\n",
       "      <th>0</th>\n",
       "      <td>[Hot-Line] “AJ렌터카, 현 주가는 저평가 수준”</td>\n",
       "      <td>2015.12.28. 오전 8:41</td>\n",
       "      <td>유진투자증권은 28일 AJ렌터카에 대해 최근 급격히 하락한 주가로 저평가 국면에 진...</td>\n",
       "      <td>https://news.naver.com/main/read.nhn?mode=LSD&amp;...</td>\n",
       "    </tr>\n",
       "    <tr>\n",
       "      <th>1</th>\n",
       "      <td>AJ렌터카, 美 금리 인상 우려 과도 ‘매수’</td>\n",
       "      <td>2015.12.29. 오전 10:57</td>\n",
       "      <td>유진투자증권은 AJ렌터카에 대해 28일 “미국 금리인상에 따른 주가 하락의 영향은 ...</td>\n",
       "      <td>https://news.naver.com/main/read.nhn?mode=LSD&amp;...</td>\n",
       "    </tr>\n",
       "    <tr>\n",
       "      <th>2</th>\n",
       "      <td>[특징주]AJ렌터카, '절대 저평가' 분석에 상승 전환</td>\n",
       "      <td>2015.12.28. 오전 9:39</td>\n",
       "      <td>[이데일리 이명철 기자] AJ렌터카(068400)가 미국 금리인상에 대한 우려가 과...</td>\n",
       "      <td>https://news.naver.com/main/read.nhn?mode=LSD&amp;...</td>\n",
       "    </tr>\n",
       "    <tr>\n",
       "      <th>3</th>\n",
       "      <td>[인베스트조선][2016년 산업전망] 렌터카 시장, 신규플레이어 진출에도 빅4 체...</td>\n",
       "      <td>2015.12.30. 오전 7:00</td>\n",
       "      <td>카드사와 캐피탈사 렌터카 사업 진출 가속화\\n한신평 “신규 진입자들의 영향 미미할 ...</td>\n",
       "      <td>https://news.naver.com/main/read.nhn?mode=LSD&amp;...</td>\n",
       "    </tr>\n",
       "    <tr>\n",
       "      <th>4</th>\n",
       "      <td>장기렌트카/자동차리스, 2016년 새해맞이! 장기렌트카 렌탈 서비스로 새 차 마...</td>\n",
       "      <td>2015.12.30. 오전 12:01</td>\n",
       "      <td>2015년이 채 이틀도 남지 않았다. 지속적인 경제 불황이 계속되고 있지만 장기렌트...</td>\n",
       "      <td>https://news.naver.com/main/read.nhn?mode=LSD&amp;...</td>\n",
       "    </tr>\n",
       "  </tbody>\n",
       "</table>\n",
       "</div>"
      ],
      "text/plain": [
       "                                              title                  date  \\\n",
       "0                  [Hot-Line] “AJ렌터카, 현 주가는 저평가 수준”   2015.12.28. 오전 8:41   \n",
       "1                         AJ렌터카, 美 금리 인상 우려 과도 ‘매수’  2015.12.29. 오전 10:57   \n",
       "2                    [특징주]AJ렌터카, '절대 저평가' 분석에 상승 전환   2015.12.28. 오전 9:39   \n",
       "3  [인베스트조선][2016년 산업전망] 렌터카 시장, 신규플레이어 진출에도 빅4 체...   2015.12.30. 오전 7:00   \n",
       "4   장기렌트카/자동차리스, 2016년 새해맞이! 장기렌트카 렌탈 서비스로 새 차 마...  2015.12.30. 오전 12:01   \n",
       "\n",
       "                                             content  \\\n",
       "0  유진투자증권은 28일 AJ렌터카에 대해 최근 급격히 하락한 주가로 저평가 국면에 진...   \n",
       "1  유진투자증권은 AJ렌터카에 대해 28일 “미국 금리인상에 따른 주가 하락의 영향은 ...   \n",
       "2  [이데일리 이명철 기자] AJ렌터카(068400)가 미국 금리인상에 대한 우려가 과...   \n",
       "3  카드사와 캐피탈사 렌터카 사업 진출 가속화\\n한신평 “신규 진입자들의 영향 미미할 ...   \n",
       "4  2015년이 채 이틀도 남지 않았다. 지속적인 경제 불황이 계속되고 있지만 장기렌트...   \n",
       "\n",
       "                                                 url  \n",
       "0  https://news.naver.com/main/read.nhn?mode=LSD&...  \n",
       "1  https://news.naver.com/main/read.nhn?mode=LSD&...  \n",
       "2  https://news.naver.com/main/read.nhn?mode=LSD&...  \n",
       "3  https://news.naver.com/main/read.nhn?mode=LSD&...  \n",
       "4  https://news.naver.com/main/read.nhn?mode=LSD&...  "
      ]
     },
     "execution_count": 42,
     "metadata": {},
     "output_type": "execute_result"
    }
   ],
   "source": [
    "train_data2=pd.read_csv('2015.csv',encoding='utf-8')\n",
    "train_data2.head()"
   ]
  },
  {
   "cell_type": "code",
   "execution_count": 3,
   "metadata": {},
   "outputs": [],
   "source": [
    "train_data3=train_data2[:30000]"
   ]
  },
  {
   "cell_type": "code",
   "execution_count": 4,
   "metadata": {},
   "outputs": [
    {
     "data": {
      "text/plain": [
       "30000"
      ]
     },
     "execution_count": 4,
     "metadata": {},
     "output_type": "execute_result"
    }
   ],
   "source": [
    "len(train_data3)"
   ]
  },
  {
   "cell_type": "markdown",
   "metadata": {},
   "source": [
    "#### 결측치 제거"
   ]
  },
  {
   "cell_type": "code",
   "execution_count": 6,
   "metadata": {},
   "outputs": [],
   "source": [
    "train_data3=train_data3.dropna(how='any')"
   ]
  },
  {
   "cell_type": "markdown",
   "metadata": {},
   "source": [
    "#### 기사 수"
   ]
  },
  {
   "cell_type": "code",
   "execution_count": 7,
   "metadata": {},
   "outputs": [
    {
     "data": {
      "text/plain": [
       "30000"
      ]
     },
     "execution_count": 7,
     "metadata": {},
     "output_type": "execute_result"
    }
   ],
   "source": [
    "len(train_data3)"
   ]
  },
  {
   "cell_type": "markdown",
   "metadata": {},
   "source": [
    "#### 한글만 남게"
   ]
  },
  {
   "cell_type": "code",
   "execution_count": 8,
   "metadata": {},
   "outputs": [],
   "source": [
    "train_data3['content']=train_data3['content'].str.replace('[^ㄱ-ㅎㅏ-ㅣ가-힣]',\"\")"
   ]
  },
  {
   "cell_type": "markdown",
   "metadata": {},
   "source": [
    "**정규표현식** <br>\n",
    "[0-9] = [0,1,2,3,4,5,6,7,8,9]\n",
    "             [ㄱ-ㅎ]=[ㄱ,ㄴ,ㄷ,ㄹ,ㅁ,ㅂ,ㅅ,ㅇ,ㅈ,ㅊ,ㅋ,...]<br>\n",
    "             \\d = 숫자와 매치, [0-9]와 동일<br>\n",
    "             \\D = 숫자가 아닌 것과 매치, [^0-9]와 동일<br>\n",
    "             이 때 []안에 ^사용할 경우 반대라는 의미를 가짐<br>\n",
    "             예를들어 [^0-9] : 숫자가 아닌 문자만<br>"
   ]
  },
  {
   "cell_type": "code",
   "execution_count": 9,
   "metadata": {},
   "outputs": [
    {
     "data": {
      "text/html": [
       "<div>\n",
       "<style scoped>\n",
       "    .dataframe tbody tr th:only-of-type {\n",
       "        vertical-align: middle;\n",
       "    }\n",
       "\n",
       "    .dataframe tbody tr th {\n",
       "        vertical-align: top;\n",
       "    }\n",
       "\n",
       "    .dataframe thead th {\n",
       "        text-align: right;\n",
       "    }\n",
       "</style>\n",
       "<table border=\"1\" class=\"dataframe\">\n",
       "  <thead>\n",
       "    <tr style=\"text-align: right;\">\n",
       "      <th></th>\n",
       "      <th>title</th>\n",
       "      <th>date</th>\n",
       "      <th>content</th>\n",
       "      <th>url</th>\n",
       "    </tr>\n",
       "  </thead>\n",
       "  <tbody>\n",
       "    <tr>\n",
       "      <th>0</th>\n",
       "      <td>[Hot-Line] “AJ렌터카, 현 주가는 저평가 수준”</td>\n",
       "      <td>2015.12.28. 오전 8:41</td>\n",
       "      <td>유진투자증권은일렌터카에대해최근급격히하락한주가로저평가국면에진입했다며투자의견매수와목표주...</td>\n",
       "      <td>https://news.naver.com/main/read.nhn?mode=LSD&amp;...</td>\n",
       "    </tr>\n",
       "    <tr>\n",
       "      <th>1</th>\n",
       "      <td>AJ렌터카, 美 금리 인상 우려 과도 ‘매수’</td>\n",
       "      <td>2015.12.29. 오전 10:57</td>\n",
       "      <td>유진투자증권은렌터카에대해일미국금리인상에따른주가하락의영향은미미할전망이라며투자의견매수목...</td>\n",
       "      <td>https://news.naver.com/main/read.nhn?mode=LSD&amp;...</td>\n",
       "    </tr>\n",
       "    <tr>\n",
       "      <th>2</th>\n",
       "      <td>[특징주]AJ렌터카, '절대 저평가' 분석에 상승 전환</td>\n",
       "      <td>2015.12.28. 오전 9:39</td>\n",
       "      <td>이데일리이명철기자렌터카가미국금리인상에대한우려가과도하고렌터카사업에대한정책지원기대감으로...</td>\n",
       "      <td>https://news.naver.com/main/read.nhn?mode=LSD&amp;...</td>\n",
       "    </tr>\n",
       "    <tr>\n",
       "      <th>3</th>\n",
       "      <td>[인베스트조선][2016년 산업전망] 렌터카 시장, 신규플레이어 진출에도 빅4 체...</td>\n",
       "      <td>2015.12.30. 오전 7:00</td>\n",
       "      <td>카드사와캐피탈사렌터카사업진출가속화한신평신규진입자들의영향미미할것강중체제굳어질듯카드사와...</td>\n",
       "      <td>https://news.naver.com/main/read.nhn?mode=LSD&amp;...</td>\n",
       "    </tr>\n",
       "    <tr>\n",
       "      <th>4</th>\n",
       "      <td>장기렌트카/자동차리스, 2016년 새해맞이! 장기렌트카 렌탈 서비스로 새 차 마...</td>\n",
       "      <td>2015.12.30. 오전 12:01</td>\n",
       "      <td>년이채이틀도남지않았다지속적인경제불황이계속되고있지만장기렌트카시장만큼은활기를띠고있다신차...</td>\n",
       "      <td>https://news.naver.com/main/read.nhn?mode=LSD&amp;...</td>\n",
       "    </tr>\n",
       "  </tbody>\n",
       "</table>\n",
       "</div>"
      ],
      "text/plain": [
       "                                              title                  date  \\\n",
       "0                  [Hot-Line] “AJ렌터카, 현 주가는 저평가 수준”   2015.12.28. 오전 8:41   \n",
       "1                         AJ렌터카, 美 금리 인상 우려 과도 ‘매수’  2015.12.29. 오전 10:57   \n",
       "2                    [특징주]AJ렌터카, '절대 저평가' 분석에 상승 전환   2015.12.28. 오전 9:39   \n",
       "3  [인베스트조선][2016년 산업전망] 렌터카 시장, 신규플레이어 진출에도 빅4 체...   2015.12.30. 오전 7:00   \n",
       "4   장기렌트카/자동차리스, 2016년 새해맞이! 장기렌트카 렌탈 서비스로 새 차 마...  2015.12.30. 오전 12:01   \n",
       "\n",
       "                                             content  \\\n",
       "0  유진투자증권은일렌터카에대해최근급격히하락한주가로저평가국면에진입했다며투자의견매수와목표주...   \n",
       "1  유진투자증권은렌터카에대해일미국금리인상에따른주가하락의영향은미미할전망이라며투자의견매수목...   \n",
       "2  이데일리이명철기자렌터카가미국금리인상에대한우려가과도하고렌터카사업에대한정책지원기대감으로...   \n",
       "3  카드사와캐피탈사렌터카사업진출가속화한신평신규진입자들의영향미미할것강중체제굳어질듯카드사와...   \n",
       "4  년이채이틀도남지않았다지속적인경제불황이계속되고있지만장기렌트카시장만큼은활기를띠고있다신차...   \n",
       "\n",
       "                                                 url  \n",
       "0  https://news.naver.com/main/read.nhn?mode=LSD&...  \n",
       "1  https://news.naver.com/main/read.nhn?mode=LSD&...  \n",
       "2  https://news.naver.com/main/read.nhn?mode=LSD&...  \n",
       "3  https://news.naver.com/main/read.nhn?mode=LSD&...  \n",
       "4  https://news.naver.com/main/read.nhn?mode=LSD&...  "
      ]
     },
     "execution_count": 9,
     "metadata": {},
     "output_type": "execute_result"
    }
   ],
   "source": [
    "train_data3.head()"
   ]
  },
  {
   "cell_type": "markdown",
   "metadata": {},
   "source": [
    "#### 불용어 정의"
   ]
  },
  {
   "cell_type": "code",
   "execution_count": 10,
   "metadata": {},
   "outputs": [],
   "source": [
    "stopwords = ['의','가','하다','이','은','들','좀','잘','걍','과','도','를','으로','자','에','와','한','하다']"
   ]
  },
  {
   "cell_type": "markdown",
   "metadata": {},
   "source": [
    "#### 형태소 분석기"
   ]
  },
  {
   "cell_type": "code",
   "execution_count": 11,
   "metadata": {},
   "outputs": [
    {
     "name": "stderr",
     "output_type": "stream",
     "text": [
      "D:\\00.dev\\Anaconda\\envs\\team3-py38\\lib\\site-packages\\konlpy\\tag\\_okt.py:16: UserWarning: \"Twitter\" has changed to \"Okt\" since KoNLPy v0.4.5.\n",
      "  warn('\"Twitter\" has changed to \"Okt\" since KoNLPy v0.4.5.')\n"
     ]
    }
   ],
   "source": [
    "twitter=Twitter()\n",
    "tokenized_data3=[]\n",
    "for sentence in train_data3['content']:\n",
    "    tmpx=twitter.morphs(sentence,stem=True)\n",
    "    tmpx=[word for word in tmpx if not word in stopwords]\n",
    "    tokenized_data3.append(tmpx)"
   ]
  },
  {
   "cell_type": "markdown",
   "metadata": {},
   "source": [
    "twitter.morphs > 형태소 추출 <br>\n",
    "twitter.nouns > 명사 추출 <br>\n",
    "twitter.pos > 품사 태깅 - 주어진 텍스트를 형태소 단위로 나누고 나눠진 형태소를 그에 해당하는 품사와 함께 리스트화<br>\n",
    "stem은 각 단어에서 어간을 추출하는 기능 <br>\n",
    "EX) 와 이런 것도 영화라고 차라리 뮤직비디오를 만드는 게 나을 뻔, stem = True <br>\n",
    "['오다', '이렇다', '것', '도', '영화', '라고', '차라리', '뮤직비디오', '를', '만들다', '게', '나다', '뻔'] <br>\n",
    "이런 => 이렇다 , 만드는 => 만들다 와 같이 일정수준의 정규화를 진행해준다."
   ]
  },
  {
   "cell_type": "markdown",
   "metadata": {},
   "source": [
    "#### 기사 분석"
   ]
  },
  {
   "cell_type": "code",
   "execution_count": 12,
   "metadata": {},
   "outputs": [
    {
     "name": "stdout",
     "output_type": "stream",
     "text": [
      "기사의 최대 길이: 5642\n",
      "기사의 평균 길이: 325.5822\n"
     ]
    },
    {
     "data": {
      "image/png": "[encoded data removed]",
      "text/plain": [
       "<Figure size 432x288 with 1 Axes>"
      ]
     },
     "metadata": {
      "needs_background": "light"
     },
     "output_type": "display_data"
    }
   ],
   "source": [
    "print('기사의 최대 길이:', max(len(l) for l in tokenized_data3))\n",
    "print('기사의 평균 길이:', sum(len(l) for l in tokenized_data3)/len(tokenized_data3))\n",
    "plt.hist([len(s) for s in tokenized_data3], bins=50)\n",
    "plt.xlabel('length of samples')\n",
    "plt.ylabel('number of samples')\n",
    "plt.show()"
   ]
  },
  {
   "cell_type": "code",
   "execution_count": null,
   "metadata": {},
   "outputs": [],
   "source": []
  },
  {
   "cell_type": "markdown",
   "metadata": {},
   "source": [
    "### Word2Vec"
   ]
  },
  {
   "cell_type": "code",
   "execution_count": 13,
   "metadata": {},
   "outputs": [],
   "source": [
    "wv_model3= Word2Vec(sentences = tokenized_data3, size = 100, window=5, min_count = 5, workers = 4, sg=0)"
   ]
  },
  {
   "cell_type": "markdown",
   "metadata": {},
   "source": [
    "size : 포스태깅된 컨텐츠를 100차원의 벡터로 바꿔라<br>\n",
    "window : 주변단어는 앞뒤로 5개까지 보되,<br>\n",
    "min_count : 코퍼스 내 출현 빈도가 5번 미만인 단어는 분석에서 제외해라<br>\n",
    "workers : CPU는 쿼드코어를 써라<br>\n",
    "sg : 분석 방법은 CBOW를 사용해라 (0=CBOW, 1=skipgram) <br>\n",
    "iter : 만약 100번 학습하려면 iter=100 추가!"
   ]
  },
  {
   "cell_type": "code",
   "execution_count": 14,
   "metadata": {},
   "outputs": [
    {
     "data": {
      "text/plain": [
       "(39387, 100)"
      ]
     },
     "execution_count": 14,
     "metadata": {},
     "output_type": "execute_result"
    }
   ],
   "source": [
    "wv_model3.wv.vectors.shape    # 완성된 임베딩 매트릭스의 크기 확인"
   ]
  },
  {
   "cell_type": "markdown",
   "metadata": {},
   "source": [
    "most_similar : gensim 패키지가 제공하는 기능 중 하나로, 두 벡터 사이의 코사인 유사도를 구해줌. 그 값이 클수록 비슷한 단어라는 뜻임 <br>\n",
    "similarity : 두 단어의 유사도 계산"
   ]
  },
  {
   "cell_type": "code",
   "execution_count": 15,
   "metadata": {},
   "outputs": [
    {
     "name": "stdout",
     "output_type": "stream",
     "text": [
      "[('신심', 0.6348377466201782), ('부결', 0.6176692247390747), ('부가', 0.609546422958374), ('부와', 0.5658515691757202), ('건문제', 0.5429770946502686), ('부등', 0.533054769039154), ('러곳', 0.5279779434204102), ('의과', 0.5179455876350403), ('도참', 0.5105744004249573), ('항소', 0.5088995695114136)]\n"
     ]
    }
   ],
   "source": [
    "print(wv_model3.wv.most_similar('부도'))"
   ]
  },
  {
   "cell_type": "code",
   "execution_count": 16,
   "metadata": {},
   "outputs": [
    {
     "name": "stdout",
     "output_type": "stream",
     "text": [
      "[('종결', 0.6551148295402527), ('자진', 0.648735523223877), ('파산신청', 0.6478461027145386), ('기각', 0.6426689028739929), ('주주명부', 0.6235687732696533), ('출자전환', 0.6180136203765869), ('이의신청', 0.61468106508255), ('잔금', 0.6023138761520386), ('공동관리', 0.5898036360740662), ('가처분', 0.5848000049591064)]\n"
     ]
    }
   ],
   "source": [
    "print(wv_model3.wv.most_similar('상장폐지'))"
   ]
  },
  {
   "cell_type": "code",
   "execution_count": null,
   "metadata": {},
   "outputs": [],
   "source": []
  },
  {
   "cell_type": "markdown",
   "metadata": {},
   "source": [
    "아래는 '부도'라는 단어와 가장 비슷한(코사인 유사도가 큰) 10개 단어를 출력하라는 지시"
   ]
  },
  {
   "cell_type": "code",
   "execution_count": 45,
   "metadata": {},
   "outputs": [
    {
     "name": "stdout",
     "output_type": "stream",
     "text": [
      "[('신심', 0.6348377466201782), ('부결', 0.6176692247390747), ('부가', 0.609546422958374), ('부와', 0.5658515691757202), ('건문제', 0.5429770946502686), ('부등', 0.533054769039154), ('러곳', 0.5279779434204102), ('의과', 0.5179455876350403), ('도참', 0.5105744004249573), ('항소', 0.5088995695114136)]\n"
     ]
    }
   ],
   "source": [
    "print(wv_model3.wv.most_similar(positive=['부도'],topn=10))"
   ]
  },
  {
   "cell_type": "code",
   "execution_count": null,
   "metadata": {},
   "outputs": [],
   "source": []
  },
  {
   "cell_type": "markdown",
   "metadata": {},
   "source": [
    "**아래와 같이 학습하지 않은 단어에 대해서는 유사단어를 찾지 못함<br>\n",
    "=> FastText를 사용한다면 해결 가능**"
   ]
  },
  {
   "cell_type": "code",
   "execution_count": 18,
   "metadata": {},
   "outputs": [
    {
     "ename": "KeyError",
     "evalue": "\"word '폭망' not in vocabulary\"",
     "output_type": "error",
     "traceback": [
      "\u001b[1;31m---------------------------------------------------------------------------\u001b[0m",
      "\u001b[1;31mKeyError\u001b[0m                                  Traceback (most recent call last)",
      "\u001b[1;32m<ipython-input-18-6d8271c6ca62>\u001b[0m in \u001b[0;36m<module>\u001b[1;34m\u001b[0m\n\u001b[1;32m----> 1\u001b[1;33m \u001b[0mprint\u001b[0m\u001b[1;33m(\u001b[0m\u001b[0mwv_model3\u001b[0m\u001b[1;33m.\u001b[0m\u001b[0mwv\u001b[0m\u001b[1;33m.\u001b[0m\u001b[0mmost_similar\u001b[0m\u001b[1;33m(\u001b[0m\u001b[0mpositive\u001b[0m\u001b[1;33m=\u001b[0m\u001b[1;33m[\u001b[0m\u001b[1;34m'폭망'\u001b[0m\u001b[1;33m]\u001b[0m\u001b[1;33m,\u001b[0m\u001b[0mtopn\u001b[0m\u001b[1;33m=\u001b[0m\u001b[1;36m50\u001b[0m\u001b[1;33m)\u001b[0m\u001b[1;33m)\u001b[0m\u001b[1;33m\u001b[0m\u001b[1;33m\u001b[0m\u001b[0m\n\u001b[0m",
      "\u001b[1;32mD:\\00.dev\\Anaconda\\envs\\team3-py38\\lib\\site-packages\\gensim\\models\\keyedvectors.py\u001b[0m in \u001b[0;36mmost_similar\u001b[1;34m(self, positive, negative, topn, restrict_vocab, indexer)\u001b[0m\n\u001b[0;32m    551\u001b[0m                 \u001b[0mmean\u001b[0m\u001b[1;33m.\u001b[0m\u001b[0mappend\u001b[0m\u001b[1;33m(\u001b[0m\u001b[0mweight\u001b[0m \u001b[1;33m*\u001b[0m \u001b[0mword\u001b[0m\u001b[1;33m)\u001b[0m\u001b[1;33m\u001b[0m\u001b[1;33m\u001b[0m\u001b[0m\n\u001b[0;32m    552\u001b[0m             \u001b[1;32melse\u001b[0m\u001b[1;33m:\u001b[0m\u001b[1;33m\u001b[0m\u001b[1;33m\u001b[0m\u001b[0m\n\u001b[1;32m--> 553\u001b[1;33m                 \u001b[0mmean\u001b[0m\u001b[1;33m.\u001b[0m\u001b[0mappend\u001b[0m\u001b[1;33m(\u001b[0m\u001b[0mweight\u001b[0m \u001b[1;33m*\u001b[0m \u001b[0mself\u001b[0m\u001b[1;33m.\u001b[0m\u001b[0mword_vec\u001b[0m\u001b[1;33m(\u001b[0m\u001b[0mword\u001b[0m\u001b[1;33m,\u001b[0m \u001b[0muse_norm\u001b[0m\u001b[1;33m=\u001b[0m\u001b[1;32mTrue\u001b[0m\u001b[1;33m)\u001b[0m\u001b[1;33m)\u001b[0m\u001b[1;33m\u001b[0m\u001b[1;33m\u001b[0m\u001b[0m\n\u001b[0m\u001b[0;32m    554\u001b[0m                 \u001b[1;32mif\u001b[0m \u001b[0mword\u001b[0m \u001b[1;32min\u001b[0m \u001b[0mself\u001b[0m\u001b[1;33m.\u001b[0m\u001b[0mvocab\u001b[0m\u001b[1;33m:\u001b[0m\u001b[1;33m\u001b[0m\u001b[1;33m\u001b[0m\u001b[0m\n\u001b[0;32m    555\u001b[0m                     \u001b[0mall_words\u001b[0m\u001b[1;33m.\u001b[0m\u001b[0madd\u001b[0m\u001b[1;33m(\u001b[0m\u001b[0mself\u001b[0m\u001b[1;33m.\u001b[0m\u001b[0mvocab\u001b[0m\u001b[1;33m[\u001b[0m\u001b[0mword\u001b[0m\u001b[1;33m]\u001b[0m\u001b[1;33m.\u001b[0m\u001b[0mindex\u001b[0m\u001b[1;33m)\u001b[0m\u001b[1;33m\u001b[0m\u001b[1;33m\u001b[0m\u001b[0m\n",
      "\u001b[1;32mD:\\00.dev\\Anaconda\\envs\\team3-py38\\lib\\site-packages\\gensim\\models\\keyedvectors.py\u001b[0m in \u001b[0;36mword_vec\u001b[1;34m(self, word, use_norm)\u001b[0m\n\u001b[0;32m    466\u001b[0m             \u001b[1;32mreturn\u001b[0m \u001b[0mresult\u001b[0m\u001b[1;33m\u001b[0m\u001b[1;33m\u001b[0m\u001b[0m\n\u001b[0;32m    467\u001b[0m         \u001b[1;32melse\u001b[0m\u001b[1;33m:\u001b[0m\u001b[1;33m\u001b[0m\u001b[1;33m\u001b[0m\u001b[0m\n\u001b[1;32m--> 468\u001b[1;33m             \u001b[1;32mraise\u001b[0m \u001b[0mKeyError\u001b[0m\u001b[1;33m(\u001b[0m\u001b[1;34m\"word '%s' not in vocabulary\"\u001b[0m \u001b[1;33m%\u001b[0m \u001b[0mword\u001b[0m\u001b[1;33m)\u001b[0m\u001b[1;33m\u001b[0m\u001b[1;33m\u001b[0m\u001b[0m\n\u001b[0m\u001b[0;32m    469\u001b[0m \u001b[1;33m\u001b[0m\u001b[0m\n\u001b[0;32m    470\u001b[0m     \u001b[1;32mdef\u001b[0m \u001b[0mget_vector\u001b[0m\u001b[1;33m(\u001b[0m\u001b[0mself\u001b[0m\u001b[1;33m,\u001b[0m \u001b[0mword\u001b[0m\u001b[1;33m)\u001b[0m\u001b[1;33m:\u001b[0m\u001b[1;33m\u001b[0m\u001b[1;33m\u001b[0m\u001b[0m\n",
      "\u001b[1;31mKeyError\u001b[0m: \"word '폭망' not in vocabulary\""
     ]
    }
   ],
   "source": [
    "print(wv_model3.wv.most_similar(positive=['폭망'],topn=50))"
   ]
  },
  {
   "cell_type": "code",
   "execution_count": null,
   "metadata": {},
   "outputs": [],
   "source": []
  },
  {
   "cell_type": "code",
   "execution_count": null,
   "metadata": {},
   "outputs": [],
   "source": []
  },
  {
   "cell_type": "markdown",
   "metadata": {},
   "source": [
    "### FastText"
   ]
  },
  {
   "cell_type": "markdown",
   "metadata": {},
   "source": [
    "FastText <br>\n",
    "단어를 n-gram으로 학습 <br>\n",
    "학습하지 않은 단어들도 subword(내부단어)를 이용해 학습 가능 <br>\n",
    "보통 음절단위로 2에서 6 gram으로 , 예를들면 (대한,한민,민국,대한민,한민국,대한민국) 학습하지만 오탈자에서 강해지기 위해 6에서12 gram으로 자소단위로 학습시킴 <br>\n",
    "내부단어 임베딩 <br>\n",
    "내부단어도 모두 별개로 단일 벡터로 이루어짐 <br>\n"
   ]
  },
  {
   "cell_type": "code",
   "execution_count": 19,
   "metadata": {},
   "outputs": [],
   "source": [
    "from gensim.models import FastText\n",
    "ft_model3=FastText(sentences=tokenized_data3, size=100, window=5, min_count=5, workers=4, sg=0)"
   ]
  },
  {
   "cell_type": "code",
   "execution_count": 20,
   "metadata": {},
   "outputs": [
    {
     "name": "stderr",
     "output_type": "stream",
     "text": [
      "<ipython-input-20-77e733b1efd7>:1: DeprecationWarning: Call to deprecated `most_similar` (Method will be removed in 4.0.0, use self.wv.most_similar() instead).\n",
      "  print(ft_model3.most_similar('부도'))\n"
     ]
    },
    {
     "name": "stdout",
     "output_type": "stream",
     "text": [
      "[('부와', 0.631125807762146), ('부결', 0.6220716834068298), ('부가', 0.5993314981460571), ('해부도', 0.5847638845443726), ('신심', 0.5673139691352844), ('휴무여부', 0.5563123226165771), ('부등', 0.5302582383155823), ('부의', 0.5289174318313599), ('러신', 0.5218465924263), ('파로', 0.518285870552063)]\n"
     ]
    }
   ],
   "source": [
    "print(ft_model3.most_similar('부도'))"
   ]
  },
  {
   "cell_type": "code",
   "execution_count": 46,
   "metadata": {},
   "outputs": [
    {
     "name": "stdout",
     "output_type": "stream",
     "text": [
      "[('부와', 0.631125807762146), ('부결', 0.6220716834068298), ('부가', 0.5993314981460571), ('해부도', 0.5847638845443726), ('신심', 0.5673139691352844), ('휴무여부', 0.5563123226165771), ('부등', 0.5302582383155823), ('부의', 0.5289174318313599), ('러신', 0.5218465924263), ('파로', 0.518285870552063)]\n"
     ]
    }
   ],
   "source": [
    "print(ft_model3.wv.most_similar(positive=['부도'],topn=10))"
   ]
  },
  {
   "cell_type": "code",
   "execution_count": 47,
   "metadata": {},
   "outputs": [
    {
     "name": "stdout",
     "output_type": "stream",
     "text": [
      "[('항소', 0.7903364896774292), ('기각', 0.7677650451660156), ('취소소송', 0.7257837057113647), ('법원', 0.6976878643035889), ('승소', 0.6929534077644348), ('소송도', 0.6913825869560242), ('취소', 0.689186155796051), ('지방법원', 0.6878756880760193), ('취소심판', 0.686635434627533), ('행정소송', 0.6805837154388428)]\n"
     ]
    }
   ],
   "source": [
    "print(ft_model3.wv.most_similar(positive=['파산'],topn=10))"
   ]
  },
  {
   "cell_type": "code",
   "execution_count": null,
   "metadata": {},
   "outputs": [],
   "source": []
  },
  {
   "cell_type": "markdown",
   "metadata": {},
   "source": [
    "#### **FastText는 유사성을 sub단어 단위로 학습하므로 학습set에 없던 단어라도 유사성 찾기 가능**"
   ]
  },
  {
   "cell_type": "code",
   "execution_count": 48,
   "metadata": {},
   "outputs": [
    {
     "name": "stdout",
     "output_type": "stream",
     "text": [
      "[('경상대', 0.754270076751709), ('박인혁', 0.748703122138977), ('합동군사대', 0.710455060005188), ('충남대', 0.7081282138824463), ('지구과학', 0.6963039636611938), ('인문과학', 0.6958326101303101), ('과학', 0.6806502342224121), ('산과학', 0.677496075630188), ('충북대', 0.6651247143745422), ('전남도지사', 0.6649051904678345)]\n"
     ]
    }
   ],
   "source": [
    "print(ft_model3.wv.most_similar(positive=['폭망'],topn=10))"
   ]
  },
  {
   "cell_type": "code",
   "execution_count": null,
   "metadata": {},
   "outputs": [],
   "source": []
  }
 ],
 "metadata": {
  "kernelspec": {
   "display_name": "Python 3",
   "language": "python",
   "name": "python3"
  },
  "language_info": {
   "codemirror_mode": {
    "name": "ipython",
    "version": 3
   },
   "file_extension": ".py",
   "mimetype": "text/x-python",
   "name": "python",
   "nbconvert_exporter": "python",
   "pygments_lexer": "ipython3",
   "version": "3.8.5"
  }
 },
 "nbformat": 4,
 "nbformat_minor": 4
}
