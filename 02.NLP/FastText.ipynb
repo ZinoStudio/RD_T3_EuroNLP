{
 "cells": [
  {
   "cell_type": "markdown",
   "metadata": {},
   "source": [
    "### 모델 호출"
   ]
  },
  {
   "cell_type": "code",
   "execution_count": 40,
   "metadata": {},
   "outputs": [],
   "source": [
    "from ckonlpy.tag import Twitter\n",
    "from gensim.models.word2vec import Word2Vec\n",
    "import pandas as pd\n",
    "import matplotlib.pyplot as plt"
   ]
  },
  {
   "cell_type": "markdown",
   "metadata": {},
   "source": [
    "### Train data 호출"
   ]
  },
  {
   "cell_type": "markdown",
   "metadata": {},
   "source": [
    "#### 삼미, 2010~2015"
   ]
  },
  {
   "cell_type": "code",
   "execution_count": 7,
   "metadata": {},
   "outputs": [],
   "source": [
    "train_data=pd.read_csv('sammi.csv',encoding='utf-8')"
   ]
  },
  {
   "cell_type": "code",
   "execution_count": 8,
   "metadata": {},
   "outputs": [
    {
     "data": {
      "text/html": [
       "<div>\n",
       "<style scoped>\n",
       "    .dataframe tbody tr th:only-of-type {\n",
       "        vertical-align: middle;\n",
       "    }\n",
       "\n",
       "    .dataframe tbody tr th {\n",
       "        vertical-align: top;\n",
       "    }\n",
       "\n",
       "    .dataframe thead th {\n",
       "        text-align: right;\n",
       "    }\n",
       "</style>\n",
       "<table border=\"1\" class=\"dataframe\">\n",
       "  <thead>\n",
       "    <tr style=\"text-align: right;\">\n",
       "      <th></th>\n",
       "      <th>title</th>\n",
       "      <th>date</th>\n",
       "      <th>content</th>\n",
       "      <th>url</th>\n",
       "    </tr>\n",
       "  </thead>\n",
       "  <tbody>\n",
       "    <tr>\n",
       "      <th>0</th>\n",
       "      <td>김문수 경기지사, 시흥 삼미시장 민생탐방</td>\n",
       "      <td>2013.11.22. 오전 9:16</td>\n",
       "      <td>【수원=뉴시스】유명식 기자 = 김문수 경기도지사가 22일 시흥시 신천동에 있는 삼미...</td>\n",
       "      <td>https://news.naver.com/main/read.nhn?mode=LSD&amp;...</td>\n",
       "    </tr>\n",
       "    <tr>\n",
       "      <th>1</th>\n",
       "      <td>[특징주] 알앤엘삼미 새 대표 라정찬‥이틀째 상한가</td>\n",
       "      <td>2013.04.25. 오전 10:36</td>\n",
       "      <td>알앤엘삼미가 최근 최대주주로 올라선 라정찬 알앤엘바이오 회장이 새 대표로 선임됐다는...</td>\n",
       "      <td>https://news.naver.com/main/read.nhn?mode=LSD&amp;...</td>\n",
       "    </tr>\n",
       "    <tr>\n",
       "      <th>2</th>\n",
       "      <td>[톡톡 이상품] 삼미통상 / 삼미오븐쿡</td>\n",
       "      <td>2013.10.10. 오전 7:05</td>\n",
       "      <td>일반적인 프라이팬이나 냄비를 가열하면 바닥면 온도는 높게 올라가지만 조리기 옆면과 ...</td>\n",
       "      <td>https://news.naver.com/main/read.nhn?mode=LSD&amp;...</td>\n",
       "    </tr>\n",
       "    <tr>\n",
       "      <th>3</th>\n",
       "      <td>[특징주] 알앤엘삼미, 최대주주 변경 소식에 강세</td>\n",
       "      <td>2013.04.19. 오전 11:19</td>\n",
       "      <td>최대주주가 변경된 알앤엘삼미(007390)가 급등하고 있다.\\n\\n19일 오전 10...</td>\n",
       "      <td>https://news.naver.com/main/read.nhn?mode=LSD&amp;...</td>\n",
       "    </tr>\n",
       "    <tr>\n",
       "      <th>4</th>\n",
       "      <td>김문수, “참신한 디자인으로 전통시장 더욱 사랑받길”</td>\n",
       "      <td>2013.11.23. 오후 11:44</td>\n",
       "      <td>시흥시 삼미전통시장을 찾은 김문수 경기도지사가 전통시장 활성화 방안을 발표한 용인송...</td>\n",
       "      <td>https://news.naver.com/main/read.nhn?mode=LSD&amp;...</td>\n",
       "    </tr>\n",
       "    <tr>\n",
       "      <th>...</th>\n",
       "      <td>...</td>\n",
       "      <td>...</td>\n",
       "      <td>...</td>\n",
       "      <td>...</td>\n",
       "    </tr>\n",
       "    <tr>\n",
       "      <th>95</th>\n",
       "      <td>울산시민아카데미 개강…서상록 대표 초청 강의</td>\n",
       "      <td>2013.03.06. 오전 10:46</td>\n",
       "      <td>［헤럴드경제=이수곤 기자］울산시는 7일 오후 울산시청 대강당에서 박맹우&lt;사진&gt; 시장...</td>\n",
       "      <td>https://news.naver.com/main/read.nhn?mode=LSD&amp;...</td>\n",
       "    </tr>\n",
       "    <tr>\n",
       "      <th>96</th>\n",
       "      <td>[코스닥 공시] 알앤엘삼미 / 디웍스글로벌 / 에스디엔 등</td>\n",
       "      <td>2013.03.06. 오후 9:45</td>\n",
       "      <td>◇알앤엘삼미＝김지택 씨 외 1명이 제기한 의안상정가처분 소송에서 법원이 2013년 ...</td>\n",
       "      <td>https://news.naver.com/main/read.nhn?mode=LSD&amp;...</td>\n",
       "    </tr>\n",
       "    <tr>\n",
       "      <th>97</th>\n",
       "      <td>＜생생코스닥＞알앤엘삼미, 김홍갑 대표이사 신규 선임</td>\n",
       "      <td>2013.02.22. 오후 1:41</td>\n",
       "      <td>알앤엘삼미는 라정찬 대표이사의 사임으로 김홍갑씨를 대표이사로 신규 선임했다고 22일...</td>\n",
       "      <td>https://news.naver.com/main/read.nhn?mode=LSD&amp;...</td>\n",
       "    </tr>\n",
       "    <tr>\n",
       "      <th>98</th>\n",
       "      <td>[코스닥 공시] 알앤엘삼미 / 디지털대성 / 에스앤에스텍 등</td>\n",
       "      <td>2013.02.22. 오후 5:15</td>\n",
       "      <td>◇알앤엘삼미＝라정찬 대표이사 사임에 따라 김홍갑 신임 대표이사 선임.\\n◇디지털대성...</td>\n",
       "      <td>https://news.naver.com/main/read.nhn?mode=LSD&amp;...</td>\n",
       "    </tr>\n",
       "    <tr>\n",
       "      <th>99</th>\n",
       "      <td>＜생생코스닥＞알앤엘삼미, BW 행사가 649원→500원 조정</td>\n",
       "      <td>2013.02.18. 오후 4:21</td>\n",
       "      <td>알앤엘삼미는 시가하락에 따라 신주인수권 행사가액을 649원에서 500원으로 조정했다...</td>\n",
       "      <td>https://news.naver.com/main/read.nhn?mode=LSD&amp;...</td>\n",
       "    </tr>\n",
       "  </tbody>\n",
       "</table>\n",
       "<p>100 rows × 4 columns</p>\n",
       "</div>"
      ],
      "text/plain": [
       "                                title                  date  \\\n",
       "0              김문수 경기지사, 시흥 삼미시장 민생탐방   2013.11.22. 오전 9:16   \n",
       "1        [특징주] 알앤엘삼미 새 대표 라정찬‥이틀째 상한가  2013.04.25. 오전 10:36   \n",
       "2               [톡톡 이상품] 삼미통상 / 삼미오븐쿡   2013.10.10. 오전 7:05   \n",
       "3         [특징주] 알앤엘삼미, 최대주주 변경 소식에 강세  2013.04.19. 오전 11:19   \n",
       "4       김문수, “참신한 디자인으로 전통시장 더욱 사랑받길”  2013.11.23. 오후 11:44   \n",
       "..                                ...                   ...   \n",
       "95           울산시민아카데미 개강…서상록 대표 초청 강의  2013.03.06. 오전 10:46   \n",
       "96   [코스닥 공시] 알앤엘삼미 / 디웍스글로벌 / 에스디엔 등   2013.03.06. 오후 9:45   \n",
       "97       ＜생생코스닥＞알앤엘삼미, 김홍갑 대표이사 신규 선임   2013.02.22. 오후 1:41   \n",
       "98  [코스닥 공시] 알앤엘삼미 / 디지털대성 / 에스앤에스텍 등   2013.02.22. 오후 5:15   \n",
       "99  ＜생생코스닥＞알앤엘삼미, BW 행사가 649원→500원 조정   2013.02.18. 오후 4:21   \n",
       "\n",
       "                                              content  \\\n",
       "0   【수원=뉴시스】유명식 기자 = 김문수 경기도지사가 22일 시흥시 신천동에 있는 삼미...   \n",
       "1   알앤엘삼미가 최근 최대주주로 올라선 라정찬 알앤엘바이오 회장이 새 대표로 선임됐다는...   \n",
       "2   일반적인 프라이팬이나 냄비를 가열하면 바닥면 온도는 높게 올라가지만 조리기 옆면과 ...   \n",
       "3   최대주주가 변경된 알앤엘삼미(007390)가 급등하고 있다.\\n\\n19일 오전 10...   \n",
       "4   시흥시 삼미전통시장을 찾은 김문수 경기도지사가 전통시장 활성화 방안을 발표한 용인송...   \n",
       "..                                                ...   \n",
       "95  ［헤럴드경제=이수곤 기자］울산시는 7일 오후 울산시청 대강당에서 박맹우<사진> 시장...   \n",
       "96  ◇알앤엘삼미＝김지택 씨 외 1명이 제기한 의안상정가처분 소송에서 법원이 2013년 ...   \n",
       "97  알앤엘삼미는 라정찬 대표이사의 사임으로 김홍갑씨를 대표이사로 신규 선임했다고 22일...   \n",
       "98  ◇알앤엘삼미＝라정찬 대표이사 사임에 따라 김홍갑 신임 대표이사 선임.\\n◇디지털대성...   \n",
       "99  알앤엘삼미는 시가하락에 따라 신주인수권 행사가액을 649원에서 500원으로 조정했다...   \n",
       "\n",
       "                                                  url  \n",
       "0   https://news.naver.com/main/read.nhn?mode=LSD&...  \n",
       "1   https://news.naver.com/main/read.nhn?mode=LSD&...  \n",
       "2   https://news.naver.com/main/read.nhn?mode=LSD&...  \n",
       "3   https://news.naver.com/main/read.nhn?mode=LSD&...  \n",
       "4   https://news.naver.com/main/read.nhn?mode=LSD&...  \n",
       "..                                                ...  \n",
       "95  https://news.naver.com/main/read.nhn?mode=LSD&...  \n",
       "96  https://news.naver.com/main/read.nhn?mode=LSD&...  \n",
       "97  https://news.naver.com/main/read.nhn?mode=LSD&...  \n",
       "98  https://news.naver.com/main/read.nhn?mode=LSD&...  \n",
       "99  https://news.naver.com/main/read.nhn?mode=LSD&...  \n",
       "\n",
       "[100 rows x 4 columns]"
      ]
     },
     "execution_count": 8,
     "metadata": {},
     "output_type": "execute_result"
    }
   ],
   "source": [
    "train_data[:100]"
   ]
  },
  {
   "cell_type": "markdown",
   "metadata": {},
   "source": [
    "#### 기사 수"
   ]
  },
  {
   "cell_type": "code",
   "execution_count": 4,
   "metadata": {},
   "outputs": [
    {
     "name": "stdout",
     "output_type": "stream",
     "text": [
      "684\n"
     ]
    }
   ],
   "source": [
    "print(len(train_data))"
   ]
  },
  {
   "cell_type": "markdown",
   "metadata": {},
   "source": [
    "#### 결측치 제거"
   ]
  },
  {
   "cell_type": "code",
   "execution_count": 9,
   "metadata": {},
   "outputs": [],
   "source": [
    "train_data = train_data.dropna(how='any')"
   ]
  },
  {
   "cell_type": "code",
   "execution_count": 10,
   "metadata": {},
   "outputs": [
    {
     "name": "stdout",
     "output_type": "stream",
     "text": [
      "684\n"
     ]
    }
   ],
   "source": [
    "print(len(train_data))"
   ]
  },
  {
   "cell_type": "markdown",
   "metadata": {},
   "source": [
    "#### 한글만 남게"
   ]
  },
  {
   "cell_type": "code",
   "execution_count": 11,
   "metadata": {},
   "outputs": [],
   "source": [
    "train_data['content']=train_data['content'].str.replace('[^ㄱ-ㅎㅏ-ㅣ가-힣]',\"\")"
   ]
  },
  {
   "cell_type": "code",
   "execution_count": 12,
   "metadata": {},
   "outputs": [
    {
     "data": {
      "text/html": [
       "<div>\n",
       "<style scoped>\n",
       "    .dataframe tbody tr th:only-of-type {\n",
       "        vertical-align: middle;\n",
       "    }\n",
       "\n",
       "    .dataframe tbody tr th {\n",
       "        vertical-align: top;\n",
       "    }\n",
       "\n",
       "    .dataframe thead th {\n",
       "        text-align: right;\n",
       "    }\n",
       "</style>\n",
       "<table border=\"1\" class=\"dataframe\">\n",
       "  <thead>\n",
       "    <tr style=\"text-align: right;\">\n",
       "      <th></th>\n",
       "      <th>title</th>\n",
       "      <th>date</th>\n",
       "      <th>content</th>\n",
       "      <th>url</th>\n",
       "    </tr>\n",
       "  </thead>\n",
       "  <tbody>\n",
       "    <tr>\n",
       "      <th>0</th>\n",
       "      <td>김문수 경기지사, 시흥 삼미시장 민생탐방</td>\n",
       "      <td>2013.11.22. 오전 9:16</td>\n",
       "      <td>수원뉴시스유명식기자김문수경기도지사가일시흥시신천동에있는삼미전통시장을들렀다올들어서만번째...</td>\n",
       "      <td>https://news.naver.com/main/read.nhn?mode=LSD&amp;...</td>\n",
       "    </tr>\n",
       "    <tr>\n",
       "      <th>1</th>\n",
       "      <td>[특징주] 알앤엘삼미 새 대표 라정찬‥이틀째 상한가</td>\n",
       "      <td>2013.04.25. 오전 10:36</td>\n",
       "      <td>알앤엘삼미가최근최대주주로올라선라정찬알앤엘바이오회장이새대표로선임됐다는소식에이틀째급등세...</td>\n",
       "      <td>https://news.naver.com/main/read.nhn?mode=LSD&amp;...</td>\n",
       "    </tr>\n",
       "    <tr>\n",
       "      <th>2</th>\n",
       "      <td>[톡톡 이상품] 삼미통상 / 삼미오븐쿡</td>\n",
       "      <td>2013.10.10. 오전 7:05</td>\n",
       "      <td>일반적인프라이팬이나냄비를가열하면바닥면온도는높게올라가지만조리기옆면과상부까지는열이잘전달...</td>\n",
       "      <td>https://news.naver.com/main/read.nhn?mode=LSD&amp;...</td>\n",
       "    </tr>\n",
       "    <tr>\n",
       "      <th>3</th>\n",
       "      <td>[특징주] 알앤엘삼미, 최대주주 변경 소식에 강세</td>\n",
       "      <td>2013.04.19. 오전 11:19</td>\n",
       "      <td>최대주주가변경된알앤엘삼미가급등하고있다일오전시분현재알앤엘삼미는전날보다오른원에거래되고있...</td>\n",
       "      <td>https://news.naver.com/main/read.nhn?mode=LSD&amp;...</td>\n",
       "    </tr>\n",
       "    <tr>\n",
       "      <th>4</th>\n",
       "      <td>김문수, “참신한 디자인으로 전통시장 더욱 사랑받길”</td>\n",
       "      <td>2013.11.23. 오후 11:44</td>\n",
       "      <td>시흥시삼미전통시장을찾은김문수경기도지사가전통시장활성화방안을발표한용인송담대학생들과기념촬...</td>\n",
       "      <td>https://news.naver.com/main/read.nhn?mode=LSD&amp;...</td>\n",
       "    </tr>\n",
       "    <tr>\n",
       "      <th>5</th>\n",
       "      <td>알앤엘바이오, 알앤엘삼미와 합병 취소</td>\n",
       "      <td>2013.02.25. 오후 1:51</td>\n",
       "      <td>알앤엘바이오가계열사인알앤엘삼미와의합병을백지화할예정이다알앤엘바이오는일알앤엘삼미와의합병...</td>\n",
       "      <td>https://news.naver.com/main/read.nhn?mode=LSD&amp;...</td>\n",
       "    </tr>\n",
       "    <tr>\n",
       "      <th>6</th>\n",
       "      <td>[더벨]라정찬, 알앤엘삼미 경영권에 집착한 이유?</td>\n",
       "      <td>2013.05.02. 오전 10:19</td>\n",
       "      <td>더벨김경은기자알앤엘바이오의몰락알앤엘바이오주요매출수단으로삼기위한포석으로활용할듯더벨이기...</td>\n",
       "      <td>https://news.naver.com/main/read.nhn?mode=LSD&amp;...</td>\n",
       "    </tr>\n",
       "    <tr>\n",
       "      <th>7</th>\n",
       "      <td>[특징주] 알앤엘삼미, 합병 철회에 하락세</td>\n",
       "      <td>2013.02.26. 오전 10:39</td>\n",
       "      <td>코스닥상장사인알앤엘삼미가알앤엘바이오와의합병무산에주가가하락하고있다알앤엘삼미는일오전시분...</td>\n",
       "      <td>https://news.naver.com/main/read.nhn?mode=LSD&amp;...</td>\n",
       "    </tr>\n",
       "    <tr>\n",
       "      <th>8</th>\n",
       "      <td>[상품장터] 삼미통상 / 삼미오븐쿡</td>\n",
       "      <td>2013.02.07. 오전 7:07</td>\n",
       "      <td>주방조리기구전문업체삼미통상대표김차식에서음식물이잘타지않는기능성냄비삼미오븐쿡시리즈를판매...</td>\n",
       "      <td>https://news.naver.com/main/read.nhn?mode=LSD&amp;...</td>\n",
       "    </tr>\n",
       "    <tr>\n",
       "      <th>9</th>\n",
       "      <td>알앤엘삼미, 라정찬 회장 대상 15억 규모 BW 발행</td>\n",
       "      <td>2013.04.01. 오후 2:31</td>\n",
       "      <td>이데일리김기훈기자알앤엘삼미는운영자금을마련하기위해라정찬알앤엘바이오회장을대상으로억원규모...</td>\n",
       "      <td>https://news.naver.com/main/read.nhn?mode=LSD&amp;...</td>\n",
       "    </tr>\n",
       "  </tbody>\n",
       "</table>\n",
       "</div>"
      ],
      "text/plain": [
       "                           title                  date  \\\n",
       "0         김문수 경기지사, 시흥 삼미시장 민생탐방   2013.11.22. 오전 9:16   \n",
       "1   [특징주] 알앤엘삼미 새 대표 라정찬‥이틀째 상한가  2013.04.25. 오전 10:36   \n",
       "2          [톡톡 이상품] 삼미통상 / 삼미오븐쿡   2013.10.10. 오전 7:05   \n",
       "3    [특징주] 알앤엘삼미, 최대주주 변경 소식에 강세  2013.04.19. 오전 11:19   \n",
       "4  김문수, “참신한 디자인으로 전통시장 더욱 사랑받길”  2013.11.23. 오후 11:44   \n",
       "5           알앤엘바이오, 알앤엘삼미와 합병 취소   2013.02.25. 오후 1:51   \n",
       "6    [더벨]라정찬, 알앤엘삼미 경영권에 집착한 이유?  2013.05.02. 오전 10:19   \n",
       "7        [특징주] 알앤엘삼미, 합병 철회에 하락세  2013.02.26. 오전 10:39   \n",
       "8            [상품장터] 삼미통상 / 삼미오븐쿡   2013.02.07. 오전 7:07   \n",
       "9  알앤엘삼미, 라정찬 회장 대상 15억 규모 BW 발행   2013.04.01. 오후 2:31   \n",
       "\n",
       "                                             content  \\\n",
       "0  수원뉴시스유명식기자김문수경기도지사가일시흥시신천동에있는삼미전통시장을들렀다올들어서만번째...   \n",
       "1  알앤엘삼미가최근최대주주로올라선라정찬알앤엘바이오회장이새대표로선임됐다는소식에이틀째급등세...   \n",
       "2  일반적인프라이팬이나냄비를가열하면바닥면온도는높게올라가지만조리기옆면과상부까지는열이잘전달...   \n",
       "3  최대주주가변경된알앤엘삼미가급등하고있다일오전시분현재알앤엘삼미는전날보다오른원에거래되고있...   \n",
       "4  시흥시삼미전통시장을찾은김문수경기도지사가전통시장활성화방안을발표한용인송담대학생들과기념촬...   \n",
       "5  알앤엘바이오가계열사인알앤엘삼미와의합병을백지화할예정이다알앤엘바이오는일알앤엘삼미와의합병...   \n",
       "6  더벨김경은기자알앤엘바이오의몰락알앤엘바이오주요매출수단으로삼기위한포석으로활용할듯더벨이기...   \n",
       "7  코스닥상장사인알앤엘삼미가알앤엘바이오와의합병무산에주가가하락하고있다알앤엘삼미는일오전시분...   \n",
       "8  주방조리기구전문업체삼미통상대표김차식에서음식물이잘타지않는기능성냄비삼미오븐쿡시리즈를판매...   \n",
       "9  이데일리김기훈기자알앤엘삼미는운영자금을마련하기위해라정찬알앤엘바이오회장을대상으로억원규모...   \n",
       "\n",
       "                                                 url  \n",
       "0  https://news.naver.com/main/read.nhn?mode=LSD&...  \n",
       "1  https://news.naver.com/main/read.nhn?mode=LSD&...  \n",
       "2  https://news.naver.com/main/read.nhn?mode=LSD&...  \n",
       "3  https://news.naver.com/main/read.nhn?mode=LSD&...  \n",
       "4  https://news.naver.com/main/read.nhn?mode=LSD&...  \n",
       "5  https://news.naver.com/main/read.nhn?mode=LSD&...  \n",
       "6  https://news.naver.com/main/read.nhn?mode=LSD&...  \n",
       "7  https://news.naver.com/main/read.nhn?mode=LSD&...  \n",
       "8  https://news.naver.com/main/read.nhn?mode=LSD&...  \n",
       "9  https://news.naver.com/main/read.nhn?mode=LSD&...  "
      ]
     },
     "execution_count": 12,
     "metadata": {},
     "output_type": "execute_result"
    }
   ],
   "source": [
    "train_data[:10]"
   ]
  },
  {
   "cell_type": "markdown",
   "metadata": {},
   "source": [
    "#### 불용어 처리"
   ]
  },
  {
   "cell_type": "code",
   "execution_count": 13,
   "metadata": {},
   "outputs": [],
   "source": [
    "stopwords = ['의','가','하다','이','은','들','좀','잘','걍','과','도','를','으로','자','에','와','한','하다']"
   ]
  },
  {
   "cell_type": "markdown",
   "metadata": {},
   "source": [
    "#### 형태소 분석기 (customized konlpy의 Twitter 사용)"
   ]
  },
  {
   "cell_type": "code",
   "execution_count": 14,
   "metadata": {},
   "outputs": [
    {
     "name": "stderr",
     "output_type": "stream",
     "text": [
      "D:\\00.dev\\Anaconda\\envs\\team3-py38\\lib\\site-packages\\konlpy\\tag\\_okt.py:16: UserWarning: \"Twitter\" has changed to \"Okt\" since KoNLPy v0.4.5.\n",
      "  warn('\"Twitter\" has changed to \"Okt\" since KoNLPy v0.4.5.')\n"
     ]
    }
   ],
   "source": [
    "twitter=Twitter()\n",
    "tokenized_data=[]\n",
    "for sentence in train_data['content']:\n",
    "    tmpx=twitter.morphs(sentence,stem=True)\n",
    "    tmpx=[word for word in tmpx if not word in stopwords]\n",
    "    tokenized_data.append(tmpx)"
   ]
  },
  {
   "cell_type": "markdown",
   "metadata": {},
   "source": [
    "#### 기사 분석"
   ]
  },
  {
   "cell_type": "code",
   "execution_count": 15,
   "metadata": {},
   "outputs": [
    {
     "name": "stdout",
     "output_type": "stream",
     "text": [
      "기사의 최대 길이: 6703\n",
      "기사의 평균 길이: 440.40497076023394\n"
     ]
    },
    {
     "data": {
      "image/png": "[encoded data removed]",
      "text/plain": [
       "<Figure size 432x288 with 1 Axes>"
      ]
     },
     "metadata": {
      "needs_background": "light"
     },
     "output_type": "display_data"
    }
   ],
   "source": [
    "print('기사의 최대 길이:', max(len(l) for l in tokenized_data))\n",
    "print('기사의 평균 길이:', sum(len(l) for l in tokenized_data)/len(tokenized_data))\n",
    "plt.hist([len(s) for s in tokenized_data], bins=50)\n",
    "plt.xlabel('length of samples')\n",
    "plt.ylabel('number of samples')\n",
    "plt.show()"
   ]
  },
  {
   "cell_type": "markdown",
   "metadata": {},
   "source": [
    "### Word2Vec"
   ]
  },
  {
   "cell_type": "code",
   "execution_count": 16,
   "metadata": {},
   "outputs": [],
   "source": [
    "wv_model=Word2Vec(sentences = tokenized_data, size=100, window=5, min_count=5, workers=4, sg=0)"
   ]
  },
  {
   "cell_type": "markdown",
   "metadata": {},
   "source": [
    "size : 포스태깅된 컨텐츠를 100차원의 벡터로 바꿔라<br>\n",
    "window : 주변단어는 앞뒤로 5개까지 보되,<br>\n",
    "min_count : 코퍼스 내 출현 빈도가 5번 미만인 단어는 분석에서 제외해라<br>\n",
    "workers : CPU는 쿼드코어를 써라<br>\n",
    "sg : 분석 방법은 CBOW를 사용해라 (0=CBOW, 1=skipgram) <br>\n",
    "iter : 만약 100번 학습하려면 iter=100 추가"
   ]
  },
  {
   "cell_type": "code",
   "execution_count": 17,
   "metadata": {},
   "outputs": [
    {
     "data": {
      "text/plain": [
       "(7607, 100)"
      ]
     },
     "execution_count": 17,
     "metadata": {},
     "output_type": "execute_result"
    }
   ],
   "source": [
    "wv_model.wv.vectors.shape      # 완성된 임베딩 매트릭스의 크기 확인"
   ]
  },
  {
   "cell_type": "code",
   "execution_count": 18,
   "metadata": {},
   "outputs": [
    {
     "name": "stdout",
     "output_type": "stream",
     "text": [
      "[('서다', 0.9956775307655334), ('과정', 0.9951983094215393), ('해체', 0.9947237968444824), ('존속', 0.9943801164627075), ('허용', 0.9938596487045288), ('일관', 0.9938076734542847), ('우려', 0.9934348464012146), ('은세계', 0.9933713674545288), ('악재', 0.9931285381317139), ('실사', 0.9928656220436096)]\n"
     ]
    }
   ],
   "source": [
    "print(wv_model.wv.most_similar('부도'))"
   ]
  },
  {
   "cell_type": "code",
   "execution_count": 19,
   "metadata": {},
   "outputs": [
    {
     "name": "stdout",
     "output_type": "stream",
     "text": [
      "[('미가', 0.992369532585144), ('종헌', 0.9886391162872314), ('후너스', 0.9878257513046265), ('일신상', 0.986327052116394), ('사인', 0.9845751523971558), ('또알앤', 0.9839998483657837), ('상장', 0.9836323857307434), ('프라임', 0.9836236834526062), ('흡수', 0.9833095073699951), ('한성', 0.9831281900405884)]\n"
     ]
    },
    {
     "name": "stderr",
     "output_type": "stream",
     "text": [
      "<ipython-input-19-e62321b7ca0c>:1: DeprecationWarning: Call to deprecated `most_similar` (Method will be removed in 4.0.0, use self.wv.most_similar() instead).\n",
      "  print(model.most_similar('상장폐지'))\n"
     ]
    }
   ],
   "source": [
    "print(wv_model.wv.most_similar('상장폐지'))"
   ]
  },
  {
   "cell_type": "code",
   "execution_count": 20,
   "metadata": {},
   "outputs": [
    {
     "name": "stdout",
     "output_type": "stream",
     "text": [
      "[('서다', 0.9956775307655334), ('과정', 0.9951983094215393), ('해체', 0.9947237968444824), ('존속', 0.9943801164627075), ('허용', 0.9938596487045288), ('일관', 0.9938076734542847), ('우려', 0.9934348464012146), ('은세계', 0.9933713674545288), ('악재', 0.9931285381317139), ('실사', 0.9928656220436096), ('인수합병', 0.9927133917808533), ('중견', 0.992060124874115), ('뒤', 0.9920027256011963), ('공정', 0.9917535185813904), ('상생', 0.9915987849235535), ('방침', 0.9914650917053223), ('이끌다', 0.9914185404777527), ('취직', 0.9913638830184937), ('약하다', 0.9911699295043945), ('겪다', 0.9910182952880859), ('사가', 0.9909682869911194), ('정상화', 0.9904907941818237), ('치면', 0.9901754260063171), ('번번이', 0.9901726841926575), ('디벨로퍼', 0.9901628494262695), ('위기', 0.9900745153427124), ('견제', 0.9899135231971741), ('빙그레', 0.9898884296417236), ('선언', 0.9898602366447449), ('법적', 0.9898287057876587), ('정주영', 0.9897588491439819), ('불가피', 0.9895804524421692), ('이집', 0.9895558953285217), ('물러나다', 0.989425003528595), ('즉각', 0.9892916083335876), ('뇌성마비', 0.9891753792762756), ('수해', 0.9890711903572083), ('유동성', 0.9889019131660461), ('그간', 0.9887613654136658), ('지켜보다', 0.9885283708572388), ('김회', 0.9884908199310303), ('은비', 0.98801589012146), ('협상', 0.9879987239837646), ('이미지', 0.9877120852470398), ('참여', 0.9877118468284607), ('로거', 0.9874086380004883), ('협력', 0.9874075055122375), ('철강', 0.9873046875), ('지주회사', 0.9871892929077148), ('노조', 0.9871057271957397), ('등지', 0.9870522022247314), ('사태', 0.9870288968086243), ('해대', 0.9868351817131042), ('계획', 0.9867292642593384), ('명의', 0.9866857528686523), ('제철소', 0.9866745471954346), ('해금', 0.9866108894348145), ('쓰러지다', 0.9865350723266602), ('구개', 0.9864485859870911), ('이번', 0.9864039421081543), ('명절', 0.9863510131835938), ('입지', 0.9862098693847656), ('수사', 0.986162006855011), ('처리', 0.9861478805541992), ('절차', 0.9860948324203491), ('불안감', 0.9860058426856995), ('자금난', 0.9859591126441956), ('전형', 0.9859097003936768), ('사업자', 0.9858835935592651), ('워크아웃', 0.9858127236366272), ('대다수', 0.9857970476150513), ('포항', 0.985781192779541), ('일선', 0.9857391119003296), ('가하다', 0.985723614692688), ('주력', 0.9857103824615479), ('자하', 0.9856867790222168), ('세', 0.9856284856796265), ('장개', 0.9856283068656921), ('표시', 0.9856243133544922), ('권', 0.9856118559837341), ('십', 0.985608696937561), ('접촉', 0.9855023622512817), ('지적', 0.9854710698127747), ('이돈', 0.9854310154914856), ('그동안', 0.9853686690330505), ('대하', 0.9853633046150208), ('한화', 0.9852972626686096), ('상위', 0.9852044582366943), ('외환위기', 0.9851202368736267), ('알려지다', 0.9849613904953003), ('능성', 0.984939455986023), ('중소', 0.984931468963623), ('강세', 0.984865128993988), ('또년', 0.9848563075065613), ('유력', 0.984790563583374), ('계', 0.9847884178161621), ('핵심', 0.9847868084907532), ('공장', 0.9847768545150757), ('막국수', 0.9847469329833984), ('재학생', 0.9846938848495483)]\n"
     ]
    },
    {
     "name": "stderr",
     "output_type": "stream",
     "text": [
      "<ipython-input-20-38b481aa6f7c>:1: DeprecationWarning: Call to deprecated `most_similar` (Method will be removed in 4.0.0, use self.wv.most_similar() instead).\n",
      "  print(model.most_similar(positive=['부도'],topn=100))\n"
     ]
    }
   ],
   "source": [
    "print(wv_model.wv.most_similar(positive=['부도'],topn=100))"
   ]
  },
  {
   "cell_type": "markdown",
   "metadata": {},
   "source": [
    "### FastText"
   ]
  },
  {
   "cell_type": "code",
   "execution_count": 17,
   "metadata": {},
   "outputs": [],
   "source": [
    "from gensim.models import FastText\n",
    "ft_model=FastText(sentences=tokenized_data, size=100, window=5, min_count=5, workers=4, sg=0)"
   ]
  },
  {
   "cell_type": "code",
   "execution_count": 18,
   "metadata": {},
   "outputs": [
    {
     "name": "stderr",
     "output_type": "stream",
     "text": [
      "<ipython-input-18-c3ed092962c6>:1: DeprecationWarning: Call to deprecated `most_similar` (Method will be removed in 4.0.0, use self.wv.most_similar() instead).\n",
      "  print(model.most_similar('부도'))\n"
     ]
    },
    {
     "name": "stdout",
     "output_type": "stream",
     "text": [
      "[('해체', 0.9986094832420349), ('성명', 0.9968620538711548), ('기업인', 0.9965665340423584), ('경영인', 0.9963040947914124), ('서다', 0.9955554604530334), ('위기', 0.9949853420257568), ('당시', 0.9948784708976746), ('아베', 0.9942411184310913), ('에나', 0.9942100048065186), ('우려', 0.994184136390686)]\n"
     ]
    }
   ],
   "source": [
    "print(ft_model.most_similar('부도'))"
   ]
  },
  {
   "cell_type": "code",
   "execution_count": 19,
   "metadata": {},
   "outputs": [
    {
     "name": "stdout",
     "output_type": "stream",
     "text": [
      "[('상장', 0.9952383041381836), ('내츄럴', 0.9931573271751404), ('윤석금', 0.9883977174758911), ('글벳', 0.9879368543624878), ('한성', 0.987694501876831), ('종헌', 0.9864240884780884), ('서시', 0.9854982495307922), ('오븐', 0.9836865067481995), ('특수', 0.9835560321807861), ('한보', 0.9833957552909851)]\n"
     ]
    },
    {
     "name": "stderr",
     "output_type": "stream",
     "text": [
      "<ipython-input-19-e62321b7ca0c>:1: DeprecationWarning: Call to deprecated `most_similar` (Method will be removed in 4.0.0, use self.wv.most_similar() instead).\n",
      "  print(model.most_similar('상장폐지'))\n"
     ]
    }
   ],
   "source": [
    "print(ft_model.most_similar('상장폐지'))"
   ]
  },
  {
   "cell_type": "code",
   "execution_count": 21,
   "metadata": {},
   "outputs": [
    {
     "name": "stdout",
     "output_type": "stream",
     "text": [
      "[('해체', 0.9986094832420349), ('성명', 0.9968620538711548), ('기업인', 0.9965665340423584), ('경영인', 0.9963040947914124), ('서다', 0.9955554604530334), ('위기', 0.9949853420257568), ('당시', 0.9948784708976746), ('아베', 0.9942411184310913), ('에나', 0.9942099452018738), ('우려', 0.994184136390686), ('개종', 0.9941673278808594), ('권', 0.9941338300704956), ('십', 0.9940059185028076), ('이경영', 0.9939094185829163), ('청보식품', 0.9938521385192871), ('상생', 0.9935480356216431), ('이미지', 0.9934748411178589), ('백년', 0.9933434128761292), ('유력', 0.9933005571365356), ('이번', 0.9929134845733643), ('재무', 0.99263995885849), ('과정', 0.9925795793533325), ('불가피', 0.9924225807189941), ('증명', 0.992415726184845), ('뒤', 0.9922875165939331), ('종속', 0.9919579029083252), ('포스코에너지', 0.9915587306022644), ('계위', 0.9914814233779907), ('급락', 0.9914547204971313), ('구개', 0.9914458990097046), ('일관', 0.9912733435630798), ('유동성', 0.9911813735961914), ('존', 0.9910657405853271), ('낙찰', 0.9910581707954407), ('대기업', 0.9909499883651733), ('금융', 0.990694522857666), ('공정', 0.9905598759651184), ('사업자', 0.9904218912124634), ('천마', 0.9904109835624695), ('이인수', 0.9903160929679871), ('제철소', 0.9903086423873901), ('착수', 0.9902751445770264), ('확실성', 0.9902273416519165), ('재벌', 0.9900822639465332), ('일부', 0.990064799785614), ('우선', 0.9900320172309875), ('비대', 0.9899258613586426), ('정상화', 0.9898690581321716), ('가년', 0.9898115396499634), ('협력', 0.9897213578224182), ('확인', 0.989604651927948), ('국내', 0.989580512046814), ('사업가', 0.9894986152648926), ('기업체', 0.9894930124282837), ('겪다', 0.9894824624061584), ('인명', 0.9894331693649292), ('어려워지다', 0.9894059896469116), ('이부', 0.9892292022705078), ('유하', 0.9890955090522766), ('유예', 0.9889345169067383), ('경영', 0.9888681173324585), ('성사', 0.9887888431549072), ('한화', 0.9887604713439941), ('사의', 0.9886980056762695), ('노조', 0.9885411262512207), ('중견', 0.9885410666465759), ('정주영', 0.9883373975753784), ('존속', 0.9883361458778381), ('철강', 0.9883167743682861), ('막다', 0.9882795810699463), ('일련', 0.9882135987281799), ('명의', 0.9880793690681458), ('신설', 0.9880775213241577), ('비상', 0.9879332780838013), ('부결', 0.9879289865493774), ('인수합병', 0.9878238439559937), ('안이', 0.987746000289917), ('포스트시즌', 0.9875826835632324), ('독립', 0.9875515699386597), ('이연', 0.9875326156616211), ('사업인', 0.9874749183654785), ('협약', 0.9874099493026733), ('이랜드', 0.9874093532562256), ('계속', 0.9874036312103271), ('불안감', 0.9873855113983154), ('방침', 0.9870709180831909), ('공장', 0.9870138168334961), ('번번이', 0.9869837760925293), ('위', 0.9866811633110046), ('퇴', 0.9865868091583252), ('알려지다', 0.9864398837089539), ('이결', 0.9863677024841309), ('아울렛', 0.9863178730010986), ('최근', 0.9862213134765625), ('공판', 0.9861661791801453), ('어이', 0.9861224293708801), ('사명', 0.9860813617706299), ('꾸준히', 0.9860677719116211), ('웨딩', 0.9860183000564575), ('분리', 0.9859902858734131)]\n"
     ]
    },
    {
     "name": "stderr",
     "output_type": "stream",
     "text": [
      "<ipython-input-21-38b481aa6f7c>:1: DeprecationWarning: Call to deprecated `most_similar` (Method will be removed in 4.0.0, use self.wv.most_similar() instead).\n",
      "  print(model.most_similar(positive=['부도'],topn=100))\n"
     ]
    }
   ],
   "source": [
    "print(ft_model.most_similar(positive=['부도'],topn=100))"
   ]
  },
  {
   "cell_type": "code",
   "execution_count": null,
   "metadata": {},
   "outputs": [],
   "source": []
  },
  {
   "cell_type": "markdown",
   "metadata": {},
   "source": [
    "### 데이터 호출"
   ]
  },
  {
   "cell_type": "markdown",
   "metadata": {},
   "source": [
    "#### 2015년 전체 data"
   ]
  },
  {
   "cell_type": "code",
   "execution_count": 42,
   "metadata": {},
   "outputs": [
    {
     "data": {
      "text/html": [
       "<div>\n",
       "<style scoped>\n",
       "    .dataframe tbody tr th:only-of-type {\n",
       "        vertical-align: middle;\n",
       "    }\n",
       "\n",
       "    .dataframe tbody tr th {\n",
       "        vertical-align: top;\n",
       "    }\n",
       "\n",
       "    .dataframe thead th {\n",
       "        text-align: right;\n",
       "    }\n",
       "</style>\n",
       "<table border=\"1\" class=\"dataframe\">\n",
       "  <thead>\n",
       "    <tr style=\"text-align: right;\">\n",
       "      <th></th>\n",
       "      <th>title</th>\n",
       "      <th>date</th>\n",
       "      <th>content</th>\n",
       "      <th>url</th>\n",
       "    </tr>\n",
       "  </thead>\n",
       "  <tbody>\n",
       "    <tr>\n",
       "      <th>0</th>\n",
       "      <td>[Hot-Line] “AJ렌터카, 현 주가는 저평가 수준”</td>\n",
       "      <td>2015.12.28. 오전 8:41</td>\n",
       "      <td>유진투자증권은 28일 AJ렌터카에 대해 최근 급격히 하락한 주가로 저평가 국면에 진...</td>\n",
       "      <td>https://news.naver.com/main/read.nhn?mode=LSD&amp;...</td>\n",
       "    </tr>\n",
       "    <tr>\n",
       "      <th>1</th>\n",
       "      <td>AJ렌터카, 美 금리 인상 우려 과도 ‘매수’</td>\n",
       "      <td>2015.12.29. 오전 10:57</td>\n",
       "      <td>유진투자증권은 AJ렌터카에 대해 28일 “미국 금리인상에 따른 주가 하락의 영향은 ...</td>\n",
       "      <td>https://news.naver.com/main/read.nhn?mode=LSD&amp;...</td>\n",
       "    </tr>\n",
       "    <tr>\n",
       "      <th>2</th>\n",
       "      <td>[특징주]AJ렌터카, '절대 저평가' 분석에 상승 전환</td>\n",
       "      <td>2015.12.28. 오전 9:39</td>\n",
       "      <td>[이데일리 이명철 기자] AJ렌터카(068400)가 미국 금리인상에 대한 우려가 과...</td>\n",
       "      <td>https://news.naver.com/main/read.nhn?mode=LSD&amp;...</td>\n",
       "    </tr>\n",
       "    <tr>\n",
       "      <th>3</th>\n",
       "      <td>[인베스트조선][2016년 산업전망] 렌터카 시장, 신규플레이어 진출에도 빅4 체...</td>\n",
       "      <td>2015.12.30. 오전 7:00</td>\n",
       "      <td>카드사와 캐피탈사 렌터카 사업 진출 가속화\\n한신평 “신규 진입자들의 영향 미미할 ...</td>\n",
       "      <td>https://news.naver.com/main/read.nhn?mode=LSD&amp;...</td>\n",
       "    </tr>\n",
       "    <tr>\n",
       "      <th>4</th>\n",
       "      <td>장기렌트카/자동차리스, 2016년 새해맞이! 장기렌트카 렌탈 서비스로 새 차 마...</td>\n",
       "      <td>2015.12.30. 오전 12:01</td>\n",
       "      <td>2015년이 채 이틀도 남지 않았다. 지속적인 경제 불황이 계속되고 있지만 장기렌트...</td>\n",
       "      <td>https://news.naver.com/main/read.nhn?mode=LSD&amp;...</td>\n",
       "    </tr>\n",
       "    <tr>\n",
       "      <th>...</th>\n",
       "      <td>...</td>\n",
       "      <td>...</td>\n",
       "      <td>...</td>\n",
       "      <td>...</td>\n",
       "    </tr>\n",
       "    <tr>\n",
       "      <th>142796</th>\n",
       "      <td>(종목포커스) 3분기 실적 급증!</td>\n",
       "      <td>2015.08.19. 오전 9:23</td>\n",
       "      <td>&lt;3분기 실적 급증 전망&gt;\\n\\n쇼박스의 2분기 매출액은 전년동기비 12.0% 감소...</td>\n",
       "      <td>https://news.naver.com/main/read.nhn?mode=LSD&amp;...</td>\n",
       "    </tr>\n",
       "    <tr>\n",
       "      <th>142797</th>\n",
       "      <td>(종목레이더) 근본적인 회사 변모의 초입!</td>\n",
       "      <td>2015.08.21. 오전 8:22</td>\n",
       "      <td>&lt;올해 사상 최대 실적 예상&gt;\\n\\n코리아써키트는 2분기 영업이익이 111억원(Yo...</td>\n",
       "      <td>https://news.naver.com/main/read.nhn?mode=LSD&amp;...</td>\n",
       "    </tr>\n",
       "    <tr>\n",
       "      <th>142798</th>\n",
       "      <td>(종목레이더) 근본적인 회사 변모의 초입!</td>\n",
       "      <td>2015.08.20. 오전 8:52</td>\n",
       "      <td>&lt;2분기 실적 당사 추정치 부합&gt;\\n\\n2Q15 인선이엔티의 실적은 당사 추정치에 ...</td>\n",
       "      <td>https://news.naver.com/main/read.nhn?mode=LSD&amp;...</td>\n",
       "    </tr>\n",
       "    <tr>\n",
       "      <th>142799</th>\n",
       "      <td>(종목레이더) 예상치 상회! 하반기 방향 좋다!</td>\n",
       "      <td>2015.08.18. 오전 10:12</td>\n",
       "      <td>&lt;2분기 순이익은 기대치 상회&gt;\\n\\n2분기 연결 기준 매출액과 영업이익은 전년동기...</td>\n",
       "      <td>https://news.naver.com/main/read.nhn?mode=LSD&amp;...</td>\n",
       "    </tr>\n",
       "    <tr>\n",
       "      <th>142800</th>\n",
       "      <td>(종목레이더) 매수기회 발생!</td>\n",
       "      <td>2015.03.13. 오전 8:21</td>\n",
       "      <td>&lt;매출은 예상보다 부진, 이익률은 개선&gt;\\n\\n태평양물산의 4분기 매출액이 당사 예...</td>\n",
       "      <td>https://news.naver.com/main/read.nhn?mode=LSD&amp;...</td>\n",
       "    </tr>\n",
       "  </tbody>\n",
       "</table>\n",
       "<p>142801 rows × 4 columns</p>\n",
       "</div>"
      ],
      "text/plain": [
       "                                                   title  \\\n",
       "0                       [Hot-Line] “AJ렌터카, 현 주가는 저평가 수준”   \n",
       "1                              AJ렌터카, 美 금리 인상 우려 과도 ‘매수’   \n",
       "2                         [특징주]AJ렌터카, '절대 저평가' 분석에 상승 전환   \n",
       "3       [인베스트조선][2016년 산업전망] 렌터카 시장, 신규플레이어 진출에도 빅4 체...   \n",
       "4        장기렌트카/자동차리스, 2016년 새해맞이! 장기렌트카 렌탈 서비스로 새 차 마...   \n",
       "...                                                  ...   \n",
       "142796                                (종목포커스) 3분기 실적 급증!   \n",
       "142797                           (종목레이더) 근본적인 회사 변모의 초입!   \n",
       "142798                           (종목레이더) 근본적인 회사 변모의 초입!   \n",
       "142799                        (종목레이더) 예상치 상회! 하반기 방향 좋다!   \n",
       "142800                                  (종목레이더) 매수기회 발생!   \n",
       "\n",
       "                        date  \\\n",
       "0        2015.12.28. 오전 8:41   \n",
       "1       2015.12.29. 오전 10:57   \n",
       "2        2015.12.28. 오전 9:39   \n",
       "3        2015.12.30. 오전 7:00   \n",
       "4       2015.12.30. 오전 12:01   \n",
       "...                      ...   \n",
       "142796   2015.08.19. 오전 9:23   \n",
       "142797   2015.08.21. 오전 8:22   \n",
       "142798   2015.08.20. 오전 8:52   \n",
       "142799  2015.08.18. 오전 10:12   \n",
       "142800   2015.03.13. 오전 8:21   \n",
       "\n",
       "                                                  content  \\\n",
       "0       유진투자증권은 28일 AJ렌터카에 대해 최근 급격히 하락한 주가로 저평가 국면에 진...   \n",
       "1       유진투자증권은 AJ렌터카에 대해 28일 “미국 금리인상에 따른 주가 하락의 영향은 ...   \n",
       "2       [이데일리 이명철 기자] AJ렌터카(068400)가 미국 금리인상에 대한 우려가 과...   \n",
       "3       카드사와 캐피탈사 렌터카 사업 진출 가속화\\n한신평 “신규 진입자들의 영향 미미할 ...   \n",
       "4       2015년이 채 이틀도 남지 않았다. 지속적인 경제 불황이 계속되고 있지만 장기렌트...   \n",
       "...                                                   ...   \n",
       "142796  <3분기 실적 급증 전망>\\n\\n쇼박스의 2분기 매출액은 전년동기비 12.0% 감소...   \n",
       "142797  <올해 사상 최대 실적 예상>\\n\\n코리아써키트는 2분기 영업이익이 111억원(Yo...   \n",
       "142798  <2분기 실적 당사 추정치 부합>\\n\\n2Q15 인선이엔티의 실적은 당사 추정치에 ...   \n",
       "142799  <2분기 순이익은 기대치 상회>\\n\\n2분기 연결 기준 매출액과 영업이익은 전년동기...   \n",
       "142800  <매출은 예상보다 부진, 이익률은 개선>\\n\\n태평양물산의 4분기 매출액이 당사 예...   \n",
       "\n",
       "                                                      url  \n",
       "0       https://news.naver.com/main/read.nhn?mode=LSD&...  \n",
       "1       https://news.naver.com/main/read.nhn?mode=LSD&...  \n",
       "2       https://news.naver.com/main/read.nhn?mode=LSD&...  \n",
       "3       https://news.naver.com/main/read.nhn?mode=LSD&...  \n",
       "4       https://news.naver.com/main/read.nhn?mode=LSD&...  \n",
       "...                                                   ...  \n",
       "142796  https://news.naver.com/main/read.nhn?mode=LSD&...  \n",
       "142797  https://news.naver.com/main/read.nhn?mode=LSD&...  \n",
       "142798  https://news.naver.com/main/read.nhn?mode=LSD&...  \n",
       "142799  https://news.naver.com/main/read.nhn?mode=LSD&...  \n",
       "142800  https://news.naver.com/main/read.nhn?mode=LSD&...  \n",
       "\n",
       "[142801 rows x 4 columns]"
      ]
     },
     "execution_count": 42,
     "metadata": {},
     "output_type": "execute_result"
    }
   ],
   "source": [
    "train_data2=pd.read_csv('2015.csv',encoding='utf-8')\n",
    "train_data2"
   ]
  },
  {
   "cell_type": "markdown",
   "metadata": {},
   "source": [
    "#### 결측치 제거"
   ]
  },
  {
   "cell_type": "code",
   "execution_count": 43,
   "metadata": {},
   "outputs": [],
   "source": [
    "train_data2=train_data.dropna(how='any')"
   ]
  },
  {
   "cell_type": "markdown",
   "metadata": {},
   "source": [
    "#### 기사 수"
   ]
  },
  {
   "cell_type": "code",
   "execution_count": 44,
   "metadata": {},
   "outputs": [
    {
     "data": {
      "text/plain": [
       "142801"
      ]
     },
     "execution_count": 44,
     "metadata": {},
     "output_type": "execute_result"
    }
   ],
   "source": [
    "len(train_data2)"
   ]
  },
  {
   "cell_type": "markdown",
   "metadata": {},
   "source": [
    "#### 한글만 남게"
   ]
  },
  {
   "cell_type": "code",
   "execution_count": 45,
   "metadata": {},
   "outputs": [],
   "source": [
    "train_data2['content']=train_data2['content'].str.replace('[^ㄱ-ㅎㅏ-ㅣ가-힣]',\"\")"
   ]
  },
  {
   "cell_type": "code",
   "execution_count": 46,
   "metadata": {},
   "outputs": [
    {
     "data": {
      "text/html": [
       "<div>\n",
       "<style scoped>\n",
       "    .dataframe tbody tr th:only-of-type {\n",
       "        vertical-align: middle;\n",
       "    }\n",
       "\n",
       "    .dataframe tbody tr th {\n",
       "        vertical-align: top;\n",
       "    }\n",
       "\n",
       "    .dataframe thead th {\n",
       "        text-align: right;\n",
       "    }\n",
       "</style>\n",
       "<table border=\"1\" class=\"dataframe\">\n",
       "  <thead>\n",
       "    <tr style=\"text-align: right;\">\n",
       "      <th></th>\n",
       "      <th>title</th>\n",
       "      <th>date</th>\n",
       "      <th>content</th>\n",
       "      <th>url</th>\n",
       "    </tr>\n",
       "  </thead>\n",
       "  <tbody>\n",
       "    <tr>\n",
       "      <th>0</th>\n",
       "      <td>[Hot-Line] “AJ렌터카, 현 주가는 저평가 수준”</td>\n",
       "      <td>2015.12.28. 오전 8:41</td>\n",
       "      <td>유진투자증권은일렌터카에대해최근급격히하락한주가로저평가국면에진입했다며투자의견매수와목표주...</td>\n",
       "      <td>https://news.naver.com/main/read.nhn?mode=LSD&amp;...</td>\n",
       "    </tr>\n",
       "    <tr>\n",
       "      <th>1</th>\n",
       "      <td>AJ렌터카, 美 금리 인상 우려 과도 ‘매수’</td>\n",
       "      <td>2015.12.29. 오전 10:57</td>\n",
       "      <td>유진투자증권은렌터카에대해일미국금리인상에따른주가하락의영향은미미할전망이라며투자의견매수목...</td>\n",
       "      <td>https://news.naver.com/main/read.nhn?mode=LSD&amp;...</td>\n",
       "    </tr>\n",
       "    <tr>\n",
       "      <th>2</th>\n",
       "      <td>[특징주]AJ렌터카, '절대 저평가' 분석에 상승 전환</td>\n",
       "      <td>2015.12.28. 오전 9:39</td>\n",
       "      <td>이데일리이명철기자렌터카가미국금리인상에대한우려가과도하고렌터카사업에대한정책지원기대감으로...</td>\n",
       "      <td>https://news.naver.com/main/read.nhn?mode=LSD&amp;...</td>\n",
       "    </tr>\n",
       "    <tr>\n",
       "      <th>3</th>\n",
       "      <td>[인베스트조선][2016년 산업전망] 렌터카 시장, 신규플레이어 진출에도 빅4 체...</td>\n",
       "      <td>2015.12.30. 오전 7:00</td>\n",
       "      <td>카드사와캐피탈사렌터카사업진출가속화한신평신규진입자들의영향미미할것강중체제굳어질듯카드사와...</td>\n",
       "      <td>https://news.naver.com/main/read.nhn?mode=LSD&amp;...</td>\n",
       "    </tr>\n",
       "    <tr>\n",
       "      <th>4</th>\n",
       "      <td>장기렌트카/자동차리스, 2016년 새해맞이! 장기렌트카 렌탈 서비스로 새 차 마...</td>\n",
       "      <td>2015.12.30. 오전 12:01</td>\n",
       "      <td>년이채이틀도남지않았다지속적인경제불황이계속되고있지만장기렌트카시장만큼은활기를띠고있다신차...</td>\n",
       "      <td>https://news.naver.com/main/read.nhn?mode=LSD&amp;...</td>\n",
       "    </tr>\n",
       "  </tbody>\n",
       "</table>\n",
       "</div>"
      ],
      "text/plain": [
       "                                              title                  date  \\\n",
       "0                  [Hot-Line] “AJ렌터카, 현 주가는 저평가 수준”   2015.12.28. 오전 8:41   \n",
       "1                         AJ렌터카, 美 금리 인상 우려 과도 ‘매수’  2015.12.29. 오전 10:57   \n",
       "2                    [특징주]AJ렌터카, '절대 저평가' 분석에 상승 전환   2015.12.28. 오전 9:39   \n",
       "3  [인베스트조선][2016년 산업전망] 렌터카 시장, 신규플레이어 진출에도 빅4 체...   2015.12.30. 오전 7:00   \n",
       "4   장기렌트카/자동차리스, 2016년 새해맞이! 장기렌트카 렌탈 서비스로 새 차 마...  2015.12.30. 오전 12:01   \n",
       "\n",
       "                                             content  \\\n",
       "0  유진투자증권은일렌터카에대해최근급격히하락한주가로저평가국면에진입했다며투자의견매수와목표주...   \n",
       "1  유진투자증권은렌터카에대해일미국금리인상에따른주가하락의영향은미미할전망이라며투자의견매수목...   \n",
       "2  이데일리이명철기자렌터카가미국금리인상에대한우려가과도하고렌터카사업에대한정책지원기대감으로...   \n",
       "3  카드사와캐피탈사렌터카사업진출가속화한신평신규진입자들의영향미미할것강중체제굳어질듯카드사와...   \n",
       "4  년이채이틀도남지않았다지속적인경제불황이계속되고있지만장기렌트카시장만큼은활기를띠고있다신차...   \n",
       "\n",
       "                                                 url  \n",
       "0  https://news.naver.com/main/read.nhn?mode=LSD&...  \n",
       "1  https://news.naver.com/main/read.nhn?mode=LSD&...  \n",
       "2  https://news.naver.com/main/read.nhn?mode=LSD&...  \n",
       "3  https://news.naver.com/main/read.nhn?mode=LSD&...  \n",
       "4  https://news.naver.com/main/read.nhn?mode=LSD&...  "
      ]
     },
     "execution_count": 46,
     "metadata": {},
     "output_type": "execute_result"
    }
   ],
   "source": [
    "train_data2.head()"
   ]
  },
  {
   "cell_type": "markdown",
   "metadata": {},
   "source": [
    "#### 불용어 처리"
   ]
  },
  {
   "cell_type": "code",
   "execution_count": 47,
   "metadata": {},
   "outputs": [],
   "source": [
    "stopwords = ['의','가','하다','이','은','들','좀','잘','걍','과','도','를','으로','자','에','와','한','하다']"
   ]
  },
  {
   "cell_type": "markdown",
   "metadata": {},
   "source": [
    "#### 형태소 분석기"
   ]
  },
  {
   "cell_type": "code",
   "execution_count": 48,
   "metadata": {},
   "outputs": [
    {
     "name": "stderr",
     "output_type": "stream",
     "text": [
      "D:\\00.dev\\Anaconda\\envs\\team3-py38\\lib\\site-packages\\konlpy\\tag\\_okt.py:16: UserWarning: \"Twitter\" has changed to \"Okt\" since KoNLPy v0.4.5.\n",
      "  warn('\"Twitter\" has changed to \"Okt\" since KoNLPy v0.4.5.')\n"
     ]
    }
   ],
   "source": [
    "twitter=Twitter()\n",
    "tokenized_data2=[]\n",
    "for sentence in train_data2['content']:\n",
    "    tmpx=twitter.morphs(sentence,stem=True)\n",
    "    tmpx=[word for word in tmpx if not word in stopwords]\n",
    "    tokenized_data2.append(tmpx)"
   ]
  },
  {
   "cell_type": "markdown",
   "metadata": {},
   "source": [
    "#### 기사 분석"
   ]
  },
  {
   "cell_type": "code",
   "execution_count": 49,
   "metadata": {},
   "outputs": [
    {
     "name": "stdout",
     "output_type": "stream",
     "text": [
      "기사의 최대 길이: 15086\n",
      "기사의 평균 길이: 344.997079852382\n"
     ]
    },
    {
     "data": {
      "image/png": "[encoded data removed]",
      "text/plain": [
       "<Figure size 432x288 with 1 Axes>"
      ]
     },
     "metadata": {
      "needs_background": "light"
     },
     "output_type": "display_data"
    }
   ],
   "source": [
    "print('기사의 최대 길이:', max(len(l) for l in tokenized_data2))\n",
    "print('기사의 평균 길이:', sum(len(l) for l in tokenized_data2)/len(tokenized_data2))\n",
    "plt.hist([len(s) for s in tokenized_data2], bins=50)\n",
    "plt.xlabel('length of samples')\n",
    "plt.ylabel('number of samples')\n",
    "plt.show()"
   ]
  },
  {
   "cell_type": "code",
   "execution_count": null,
   "metadata": {},
   "outputs": [],
   "source": []
  },
  {
   "cell_type": "markdown",
   "metadata": {},
   "source": [
    "### Word2Vec"
   ]
  },
  {
   "cell_type": "code",
   "execution_count": 50,
   "metadata": {},
   "outputs": [],
   "source": [
    "wv_model2= Word2Vec(sentences = tokenized_data2, size = 100, window=5, min_count = 5, workers = 4, sg=0)"
   ]
  },
  {
   "cell_type": "code",
   "execution_count": 27,
   "metadata": {},
   "outputs": [
    {
     "data": {
      "text/plain": [
       "(7607, 100)"
      ]
     },
     "execution_count": 27,
     "metadata": {},
     "output_type": "execute_result"
    }
   ],
   "source": [
    "wv_model2.wv.vectors.shape"
   ]
  },
  {
   "cell_type": "code",
   "execution_count": 51,
   "metadata": {},
   "outputs": [
    {
     "name": "stdout",
     "output_type": "stream",
     "text": [
      "[('부가', 0.7554649114608765), ('부의', 0.6062743663787842), ('부와', 0.586667537689209), ('부결', 0.5606884360313416), ('무위', 0.5410023927688599), ('부등', 0.534579873085022), ('부가대', 0.5115238428115845), ('신심', 0.49906980991363525), ('론도', 0.46637529134750366), ('부실', 0.464468777179718)]\n"
     ]
    }
   ],
   "source": [
    "print(wv_model2.wv.most_similar('부도'))"
   ]
  },
  {
   "cell_type": "code",
   "execution_count": 52,
   "metadata": {},
   "outputs": [
    {
     "name": "stdout",
     "output_type": "stream",
     "text": [
      "[('상폐', 0.7448605298995972), ('관리종목', 0.6664603352546692), ('이의신청', 0.6151034235954285), ('코데즈', 0.6028000116348267), ('파로스', 0.5630977749824524), ('사사유', 0.5566840171813965), ('상장', 0.5469402074813843), ('파산신청', 0.5409775972366333), ('자본잠식', 0.539065957069397), ('태창', 0.5372215509414673)]\n"
     ]
    }
   ],
   "source": [
    "print(wv_model2.wv.most_similar('상장폐지'))"
   ]
  },
  {
   "cell_type": "code",
   "execution_count": 53,
   "metadata": {},
   "outputs": [
    {
     "name": "stdout",
     "output_type": "stream",
     "text": [
      "[('부가', 0.7554649710655212), ('부의', 0.606274425983429), ('부와', 0.586667537689209), ('부결', 0.5606884956359863), ('무위', 0.5410024523735046), ('부등', 0.534579873085022), ('부가대', 0.5115238428115845), ('신심', 0.49906986951828003), ('론도', 0.46637535095214844), ('부실', 0.4644688665866852), ('파로', 0.46162909269332886), ('부르다', 0.4598711133003235), ('론전', 0.4561780095100403), ('러건', 0.45009303092956543), ('부및', 0.4327280819416046), ('가결', 0.4323975443840027), ('법부', 0.4279526472091675), ('부및구', 0.4221044182777405), ('밀화', 0.4183788299560547), ('채월', 0.41166430711746216), ('영채', 0.40919581055641174), ('체성', 0.4088013768196106), ('시비', 0.4079754948616028), ('간부', 0.40583473443984985), ('태선', 0.4057927429676056), ('관리종목', 0.4037337303161621), ('무위법', 0.40147218108177185), ('운규', 0.39572542905807495), ('밀본', 0.3952888250350952), ('부다', 0.392327219247818), ('부쪽', 0.39061957597732544), ('자진', 0.39011743664741516), ('번번이', 0.3864089250564575), ('도의', 0.3850138187408447), ('부심', 0.38237205147743225), ('러', 0.3812190592288971), ('용공', 0.38046151399612427), ('보가', 0.38021183013916016), ('유건', 0.37726885080337524), ('성노동자', 0.3771858513355255), ('예산안', 0.37616801261901855), ('구속', 0.37509626150131226), ('체포영장', 0.37452515959739685), ('러브랜드', 0.3745152950286865), ('이결', 0.37356036901474), ('철회', 0.3728143870830536), ('퇴선', 0.37274953722953796), ('구조조정', 0.3723978102207184), ('건의', 0.3722326159477234), ('파가', 0.37088319659233093), ('분식회계', 0.36989763379096985), ('보통신', 0.369753360748291), ('칼날', 0.3685975670814514), ('사부일체', 0.3682878017425537), ('도로', 0.3674410581588745), ('성근로자', 0.36742085218429565), ('무산', 0.36723899841308594), ('부참', 0.3669808506965637), ('졸속', 0.36475035548210144), ('간통죄', 0.3645641803741455), ('폐업', 0.36334532499313354), ('정리해고', 0.36302781105041504), ('불법행위', 0.36266279220581055), ('신업', 0.3617434501647949), ('책기', 0.36085790395736694), ('상장폐지', 0.36047714948654175), ('사사유', 0.3601674437522888), ('성취향', 0.35985034704208374), ('직권상정', 0.35963964462280273), ('도로고', 0.3589397370815277), ('애초', 0.3589017987251282), ('운혁', 0.3563987612724304), ('성노동', 0.3563586473464966), ('만계', 0.3558370769023895), ('온건', 0.3545317053794861), ('용덕면', 0.3542344570159912), ('결렬', 0.3542305827140808), ('부도지', 0.3533872365951538), ('분룰', 0.35268133878707886), ('를토', 0.3524915277957916), ('조준', 0.3513239026069641), ('회계감사', 0.3510531187057495), ('위법성', 0.3509921431541443), ('월법', 0.3497304618358612), ('실패', 0.34857097268104553), ('상확', 0.3484712839126587), ('부득이', 0.3481890559196472), ('대통령령', 0.3476753234863281), ('서법', 0.3469792902469635), ('부검', 0.34613335132598877), ('보류', 0.3460277318954468), ('돌연', 0.34602588415145874), ('추경', 0.34530216455459595), ('병찬반', 0.34494704008102417), ('의과', 0.3447362780570984), ('파행', 0.3447190821170807), ('불참', 0.3444720506668091), ('비리', 0.3444662094116211), ('안이', 0.34411823749542236), ('병묵', 0.34381794929504395)]\n"
     ]
    }
   ],
   "source": [
    "print(wv_model2.wv.most_similar(positive=['부도'],topn=100))"
   ]
  },
  {
   "cell_type": "code",
   "execution_count": 54,
   "metadata": {},
   "outputs": [
    {
     "ename": "KeyError",
     "evalue": "\"word '폭망' not in vocabulary\"",
     "output_type": "error",
     "traceback": [
      "\u001b[1;31m---------------------------------------------------------------------------\u001b[0m",
      "\u001b[1;31mKeyError\u001b[0m                                  Traceback (most recent call last)",
      "\u001b[1;32m<ipython-input-54-7526ef93ad54>\u001b[0m in \u001b[0;36m<module>\u001b[1;34m\u001b[0m\n\u001b[1;32m----> 1\u001b[1;33m \u001b[0mprint\u001b[0m\u001b[1;33m(\u001b[0m\u001b[0mwv_model2\u001b[0m\u001b[1;33m.\u001b[0m\u001b[0mwv\u001b[0m\u001b[1;33m.\u001b[0m\u001b[0mmost_similar\u001b[0m\u001b[1;33m(\u001b[0m\u001b[0mpositive\u001b[0m\u001b[1;33m=\u001b[0m\u001b[1;33m[\u001b[0m\u001b[1;34m'폭망'\u001b[0m\u001b[1;33m]\u001b[0m\u001b[1;33m,\u001b[0m\u001b[0mtopn\u001b[0m\u001b[1;33m=\u001b[0m\u001b[1;36m50\u001b[0m\u001b[1;33m)\u001b[0m\u001b[1;33m)\u001b[0m\u001b[1;33m\u001b[0m\u001b[1;33m\u001b[0m\u001b[0m\n\u001b[0m",
      "\u001b[1;32mD:\\00.dev\\Anaconda\\envs\\team3-py38\\lib\\site-packages\\gensim\\models\\keyedvectors.py\u001b[0m in \u001b[0;36mmost_similar\u001b[1;34m(self, positive, negative, topn, restrict_vocab, indexer)\u001b[0m\n\u001b[0;32m    551\u001b[0m                 \u001b[0mmean\u001b[0m\u001b[1;33m.\u001b[0m\u001b[0mappend\u001b[0m\u001b[1;33m(\u001b[0m\u001b[0mweight\u001b[0m \u001b[1;33m*\u001b[0m \u001b[0mword\u001b[0m\u001b[1;33m)\u001b[0m\u001b[1;33m\u001b[0m\u001b[1;33m\u001b[0m\u001b[0m\n\u001b[0;32m    552\u001b[0m             \u001b[1;32melse\u001b[0m\u001b[1;33m:\u001b[0m\u001b[1;33m\u001b[0m\u001b[1;33m\u001b[0m\u001b[0m\n\u001b[1;32m--> 553\u001b[1;33m                 \u001b[0mmean\u001b[0m\u001b[1;33m.\u001b[0m\u001b[0mappend\u001b[0m\u001b[1;33m(\u001b[0m\u001b[0mweight\u001b[0m \u001b[1;33m*\u001b[0m \u001b[0mself\u001b[0m\u001b[1;33m.\u001b[0m\u001b[0mword_vec\u001b[0m\u001b[1;33m(\u001b[0m\u001b[0mword\u001b[0m\u001b[1;33m,\u001b[0m \u001b[0muse_norm\u001b[0m\u001b[1;33m=\u001b[0m\u001b[1;32mTrue\u001b[0m\u001b[1;33m)\u001b[0m\u001b[1;33m)\u001b[0m\u001b[1;33m\u001b[0m\u001b[1;33m\u001b[0m\u001b[0m\n\u001b[0m\u001b[0;32m    554\u001b[0m                 \u001b[1;32mif\u001b[0m \u001b[0mword\u001b[0m \u001b[1;32min\u001b[0m \u001b[0mself\u001b[0m\u001b[1;33m.\u001b[0m\u001b[0mvocab\u001b[0m\u001b[1;33m:\u001b[0m\u001b[1;33m\u001b[0m\u001b[1;33m\u001b[0m\u001b[0m\n\u001b[0;32m    555\u001b[0m                     \u001b[0mall_words\u001b[0m\u001b[1;33m.\u001b[0m\u001b[0madd\u001b[0m\u001b[1;33m(\u001b[0m\u001b[0mself\u001b[0m\u001b[1;33m.\u001b[0m\u001b[0mvocab\u001b[0m\u001b[1;33m[\u001b[0m\u001b[0mword\u001b[0m\u001b[1;33m]\u001b[0m\u001b[1;33m.\u001b[0m\u001b[0mindex\u001b[0m\u001b[1;33m)\u001b[0m\u001b[1;33m\u001b[0m\u001b[1;33m\u001b[0m\u001b[0m\n",
      "\u001b[1;32mD:\\00.dev\\Anaconda\\envs\\team3-py38\\lib\\site-packages\\gensim\\models\\keyedvectors.py\u001b[0m in \u001b[0;36mword_vec\u001b[1;34m(self, word, use_norm)\u001b[0m\n\u001b[0;32m    466\u001b[0m             \u001b[1;32mreturn\u001b[0m \u001b[0mresult\u001b[0m\u001b[1;33m\u001b[0m\u001b[1;33m\u001b[0m\u001b[0m\n\u001b[0;32m    467\u001b[0m         \u001b[1;32melse\u001b[0m\u001b[1;33m:\u001b[0m\u001b[1;33m\u001b[0m\u001b[1;33m\u001b[0m\u001b[0m\n\u001b[1;32m--> 468\u001b[1;33m             \u001b[1;32mraise\u001b[0m \u001b[0mKeyError\u001b[0m\u001b[1;33m(\u001b[0m\u001b[1;34m\"word '%s' not in vocabulary\"\u001b[0m \u001b[1;33m%\u001b[0m \u001b[0mword\u001b[0m\u001b[1;33m)\u001b[0m\u001b[1;33m\u001b[0m\u001b[1;33m\u001b[0m\u001b[0m\n\u001b[0m\u001b[0;32m    469\u001b[0m \u001b[1;33m\u001b[0m\u001b[0m\n\u001b[0;32m    470\u001b[0m     \u001b[1;32mdef\u001b[0m \u001b[0mget_vector\u001b[0m\u001b[1;33m(\u001b[0m\u001b[0mself\u001b[0m\u001b[1;33m,\u001b[0m \u001b[0mword\u001b[0m\u001b[1;33m)\u001b[0m\u001b[1;33m:\u001b[0m\u001b[1;33m\u001b[0m\u001b[1;33m\u001b[0m\u001b[0m\n",
      "\u001b[1;31mKeyError\u001b[0m: \"word '폭망' not in vocabulary\""
     ]
    }
   ],
   "source": [
    "print(wv_model2.wv.most_similar(positive=['폭망'],topn=50))"
   ]
  },
  {
   "cell_type": "code",
   "execution_count": null,
   "metadata": {},
   "outputs": [],
   "source": []
  },
  {
   "cell_type": "code",
   "execution_count": null,
   "metadata": {},
   "outputs": [],
   "source": []
  },
  {
   "cell_type": "markdown",
   "metadata": {},
   "source": [
    "### FastText"
   ]
  },
  {
   "cell_type": "code",
   "execution_count": 55,
   "metadata": {},
   "outputs": [],
   "source": [
    "from gensim.models import FastText\n",
    "ft_model2=FastText(sentences=tokenized_data2, size=100, window=5, min_count=5, workers=4, sg=0)"
   ]
  },
  {
   "cell_type": "code",
   "execution_count": 56,
   "metadata": {},
   "outputs": [
    {
     "name": "stderr",
     "output_type": "stream",
     "text": [
      "<ipython-input-56-850e4f57b124>:1: DeprecationWarning: Call to deprecated `most_similar` (Method will be removed in 4.0.0, use self.wv.most_similar() instead).\n",
      "  print(ft_model2.most_similar('부도'))\n"
     ]
    },
    {
     "name": "stdout",
     "output_type": "stream",
     "text": [
      "[('부가', 0.7153676152229309), ('흥부가', 0.7081400156021118), ('부도옹', 0.6929551362991333), ('부도덕', 0.6698375940322876), ('대부도', 0.6642477512359619), ('부도지', 0.6606009006500244), ('부와', 0.6068463325500488), ('부의', 0.576937198638916), ('점선', 0.5568804740905762), ('법부', 0.5235387086868286)]\n"
     ]
    }
   ],
   "source": [
    "print(ft_model2.most_similar('부도'))"
   ]
  },
  {
   "cell_type": "code",
   "execution_count": 57,
   "metadata": {},
   "outputs": [
    {
     "name": "stdout",
     "output_type": "stream",
     "text": [
      "[('부가', 0.7153676152229309), ('흥부가', 0.7081400156021118), ('부도옹', 0.6929551362991333), ('부도덕', 0.6698375940322876), ('대부도', 0.6642477512359619), ('부도지', 0.6606009006500244), ('부와', 0.6068463325500488), ('부의', 0.576937198638916), ('점선', 0.5568804740905762), ('법부', 0.5235387086868286), ('해부도', 0.5222742557525635), ('부결', 0.5180884003639221), ('무위', 0.5119829177856445), ('부르다', 0.5047814846038818), ('부등', 0.5046533346176147), ('국가부도', 0.5002713799476624), ('파로', 0.49967920780181885), ('부가대', 0.4996791481971741), ('부및', 0.4881306290626526), ('농부가', 0.48684343695640564), ('론전', 0.48677337169647217), ('부및구', 0.48561692237854004), ('부등가', 0.48353904485702515), ('파로호', 0.481878399848938), ('론도', 0.47060447931289673), ('부의회', 0.46108755469322205), ('중정부', 0.4591881036758423), ('신심', 0.45788663625717163), ('무위법', 0.45327118039131165), ('청파로', 0.45098501443862915), ('러', 0.43995246291160583), ('사표', 0.4397374987602234), ('안이', 0.4345548152923584), ('졸속', 0.42909547686576843), ('들통', 0.4282456934452057), ('무산', 0.42575278878211975), ('열소', 0.42288780212402344), ('좌초', 0.4199484586715698), ('종지부', 0.41593900322914124), ('부르짖다', 0.4158613681793213), ('러곳', 0.4097968339920044), ('합의해지', 0.40957173705101013), ('입법부', 0.4094249904155731), ('부르르', 0.4086645841598511), ('년마', 0.4082292318344116), ('시행착오', 0.4032837748527527), ('사정부', 0.40270280838012695), ('위헌', 0.4010796546936035), ('화외', 0.40080806612968445), ('간통죄', 0.4002470374107361), ('섣부르다', 0.39961332082748413), ('유건', 0.39648663997650146), ('파탄', 0.39634406566619873), ('파가', 0.3956570029258728), ('부르주아', 0.39395302534103394), ('정리해고', 0.393481969833374), ('부실', 0.3929484486579895), ('가결', 0.39101171493530273), ('폐지', 0.39069536328315735), ('거취', 0.38857752084732056), ('구철회', 0.38846856355667114), ('실패', 0.38829004764556885), ('온건', 0.3881666660308838), ('결렬', 0.3862608075141907), ('철수', 0.3854644000530243), ('보가', 0.3847242593765259), ('집단민원', 0.384542852640152), ('철회', 0.38434475660324097), ('운혁', 0.3840818405151367), ('여부', 0.3838645815849304), ('건의', 0.3836877942085266), ('국지연', 0.3836463689804077), ('간부', 0.38344627618789673), ('사면', 0.38222289085388184), ('번번이', 0.3780432939529419), ('망명정부', 0.37799665331840515), ('용공', 0.3779551088809967), ('책및', 0.37791743874549866), ('강제해산', 0.37747955322265625), ('도사면', 0.3765961229801178), ('참여정부', 0.37643682956695557), ('조치', 0.37546372413635254), ('들이술렁', 0.3748183846473694), ('밀화', 0.3731551766395569), ('행정절차', 0.3725954294204712), ('되버', 0.37181150913238525), ('촉진법', 0.3714529871940613), ('윳돈', 0.37140607833862305), ('적분', 0.37101882696151733), ('인하', 0.3708969056606293), ('농단', 0.37059053778648376), ('손배', 0.3701612651348114), ('조처', 0.36918774247169495), ('재심', 0.36917993426322937), ('상속세', 0.3660082519054413), ('부', 0.3655763566493988), ('취소', 0.3644973337650299), ('목천읍', 0.36415380239486694), ('하깨', 0.3637252449989319), ('탈염', 0.36322373151779175)]\n"
     ]
    }
   ],
   "source": [
    "print(ft_model2.wv.most_similar(positive=['부도'],topn=100))"
   ]
  },
  {
   "cell_type": "code",
   "execution_count": 58,
   "metadata": {},
   "outputs": [
    {
     "name": "stdout",
     "output_type": "stream",
     "text": [
      "[('금오공대', 0.8092167377471924), ('감리교신학대', 0.7937999367713928), ('침례신학대', 0.7806286811828613), ('신학대', 0.7784706354141235), ('부산외국어대학교', 0.7761512398719788), ('목포해양대', 0.772444486618042), ('대구가톨릭대학교', 0.772090494632721), ('충남대학교', 0.7646075487136841), ('공대', 0.7641941905021667), ('청남대', 0.7638347148895264), ('국립대', 0.7634862661361694), ('충북보건과학대', 0.7610419392585754), ('단국대학교', 0.7609955072402954), ('영산선학대', 0.7608122825622559), ('우석대학교', 0.7599954605102539), ('부경대', 0.759803295135498), ('호서대학교', 0.758084237575531), ('부산대학교', 0.757837176322937), ('나사렛대학교', 0.7573678493499756), ('충남대', 0.7571316957473755), ('중부대학교', 0.756668746471405), ('아세아연합신학대', 0.7548809051513672), ('건양대', 0.7547966241836548), ('배재대', 0.7545245885848999), ('대구대학교', 0.7530988454818726), ('동신대학교', 0.7511757612228394), ('공주대학교', 0.7489050626754761), ('대진대학교', 0.748040497303009), ('부경대학교', 0.7474848628044128), ('목포가톨릭대', 0.7469295263290405), ('장안대학교', 0.746216893196106), ('차의과학대', 0.7433689832687378), ('한영신학대', 0.7431541681289673), ('동아대학교', 0.7418569922447205), ('동의대학교', 0.7414570450782776), ('우송대', 0.7367976903915405), ('대학교', 0.736770510673523), ('경희대학교', 0.7366833686828613), ('국립의료원', 0.7360713481903076), ('경남대', 0.7342630624771118), ('경상대', 0.7336370944976807), ('세명대', 0.7325668334960938), ('충북대학교', 0.732478141784668), ('고신대', 0.7318896651268005), ('동명대', 0.729320764541626), ('대전대학교', 0.7284005880355835), ('숭실대', 0.7280917763710022), ('수원가톨릭대', 0.7272582650184631), ('제주대학교', 0.7251956462860107), ('한양여자대학교', 0.7239936590194702)]\n"
     ]
    }
   ],
   "source": [
    "print(ft_model2.wv.most_similar(positive=['폭망'],topn=50))"
   ]
  },
  {
   "cell_type": "code",
   "execution_count": null,
   "metadata": {},
   "outputs": [],
   "source": []
  }
 ],
 "metadata": {
  "kernelspec": {
   "display_name": "Python 3",
   "language": "python",
   "name": "python3"
  },
  "language_info": {
   "codemirror_mode": {
    "name": "ipython",
    "version": 3
   },
   "file_extension": ".py",
   "mimetype": "text/x-python",
   "name": "python",
   "nbconvert_exporter": "python",
   "pygments_lexer": "ipython3",
   "version": "3.8.5"
  }
 },
 "nbformat": 4,
 "nbformat_minor": 4
}
